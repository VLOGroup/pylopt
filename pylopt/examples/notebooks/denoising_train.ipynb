{
 "cells": [
  {
   "cell_type": "code",
   "execution_count": 8,
   "id": "3f9e9005-8437-4ca3-a665-326fac601363",
   "metadata": {},
   "outputs": [
    {
     "name": "stdout",
     "output_type": "stream",
     "text": [
      "Found existing installation: PyLOpt 0.1.0\n",
      "Uninstalling PyLOpt-0.1.0:\n",
      "  Successfully uninstalled PyLOpt-0.1.0\n"
     ]
    }
   ],
   "source": [
    "!pip uninstall pylopt -y"
   ]
  },
  {
   "cell_type": "code",
   "execution_count": 10,
   "id": "ecaa8a57-0ae4-434e-b06a-7be9cf715102",
   "metadata": {},
   "outputs": [
    {
     "name": "stdout",
     "output_type": "stream",
     "text": [
      "Processing /home/florianthaler/Documents/research/pylopt/artefacts/pylopt-0.1.0-py3-none-any.whl\n",
      "Requirement already satisfied: torch>=2.6.0 in /home/florianthaler/Documents/research/pylopt/.venv/lib/python3.11/site-packages (from pylopt==0.1.0) (2.6.0)\n",
      "Requirement already satisfied: numpy>=2.0.2 in /home/florianthaler/Documents/research/pylopt/.venv/lib/python3.11/site-packages (from pylopt==0.1.0) (2.0.2)\n",
      "Requirement already satisfied: confuse>=2.0.1 in /home/florianthaler/Documents/research/pylopt/.venv/lib/python3.11/site-packages (from pylopt==0.1.0) (2.0.1)\n",
      "Requirement already satisfied: scipy>=1.15.2 in /home/florianthaler/Documents/research/pylopt/.venv/lib/python3.11/site-packages (from pylopt==0.1.0) (1.15.2)\n",
      "Requirement already satisfied: opencv-python-headless>=4.11.0.86 in /home/florianthaler/Documents/research/pylopt/.venv/lib/python3.11/site-packages (from pylopt==0.1.0) (4.11.0.86)\n",
      "Requirement already satisfied: matplotlib>=3.10.1 in /home/florianthaler/Documents/research/pylopt/.venv/lib/python3.11/site-packages (from pylopt==0.1.0) (3.10.1)\n",
      "Requirement already satisfied: PyQt5>=5.15.11 in /home/florianthaler/Documents/research/pylopt/.venv/lib/python3.11/site-packages (from pylopt==0.1.0) (5.15.11)\n",
      "Requirement already satisfied: torchvision>=0.21.0 in /home/florianthaler/Documents/research/pylopt/.venv/lib/python3.11/site-packages (from pylopt==0.1.0) (0.21.0)\n",
      "Requirement already satisfied: pillow>=11.1.0 in /home/florianthaler/Documents/research/pylopt/.venv/lib/python3.11/site-packages (from pylopt==0.1.0) (11.1.0)\n",
      "Requirement already satisfied: ninja>=1.13.0 in /home/florianthaler/Documents/research/pylopt/.venv/lib/python3.11/site-packages (from pylopt==0.1.0) (1.13.0)\n",
      "Requirement already satisfied: pyyaml in /home/florianthaler/Documents/research/pylopt/.venv/lib/python3.11/site-packages (from confuse>=2.0.1->pylopt==0.1.0) (6.0.2)\n",
      "Requirement already satisfied: contourpy>=1.0.1 in /home/florianthaler/Documents/research/pylopt/.venv/lib/python3.11/site-packages (from matplotlib>=3.10.1->pylopt==0.1.0) (1.3.3)\n",
      "Requirement already satisfied: cycler>=0.10 in /home/florianthaler/Documents/research/pylopt/.venv/lib/python3.11/site-packages (from matplotlib>=3.10.1->pylopt==0.1.0) (0.12.1)\n",
      "Requirement already satisfied: fonttools>=4.22.0 in /home/florianthaler/Documents/research/pylopt/.venv/lib/python3.11/site-packages (from matplotlib>=3.10.1->pylopt==0.1.0) (4.60.0)\n",
      "Requirement already satisfied: kiwisolver>=1.3.1 in /home/florianthaler/Documents/research/pylopt/.venv/lib/python3.11/site-packages (from matplotlib>=3.10.1->pylopt==0.1.0) (1.4.9)\n",
      "Requirement already satisfied: packaging>=20.0 in /home/florianthaler/Documents/research/pylopt/.venv/lib/python3.11/site-packages (from matplotlib>=3.10.1->pylopt==0.1.0) (25.0)\n",
      "Requirement already satisfied: pyparsing>=2.3.1 in /home/florianthaler/Documents/research/pylopt/.venv/lib/python3.11/site-packages (from matplotlib>=3.10.1->pylopt==0.1.0) (3.2.5)\n",
      "Requirement already satisfied: python-dateutil>=2.7 in /home/florianthaler/Documents/research/pylopt/.venv/lib/python3.11/site-packages (from matplotlib>=3.10.1->pylopt==0.1.0) (2.9.0.post0)\n",
      "Requirement already satisfied: PyQt5-sip<13,>=12.15 in /home/florianthaler/Documents/research/pylopt/.venv/lib/python3.11/site-packages (from PyQt5>=5.15.11->pylopt==0.1.0) (12.17.0)\n",
      "Requirement already satisfied: PyQt5-Qt5<5.16.0,>=5.15.2 in /home/florianthaler/Documents/research/pylopt/.venv/lib/python3.11/site-packages (from PyQt5>=5.15.11->pylopt==0.1.0) (5.15.17)\n",
      "Requirement already satisfied: filelock in /home/florianthaler/Documents/research/pylopt/.venv/lib/python3.11/site-packages (from torch>=2.6.0->pylopt==0.1.0) (3.19.1)\n",
      "Requirement already satisfied: typing-extensions>=4.10.0 in /home/florianthaler/Documents/research/pylopt/.venv/lib/python3.11/site-packages (from torch>=2.6.0->pylopt==0.1.0) (4.15.0)\n",
      "Requirement already satisfied: networkx in /home/florianthaler/Documents/research/pylopt/.venv/lib/python3.11/site-packages (from torch>=2.6.0->pylopt==0.1.0) (3.5)\n",
      "Requirement already satisfied: jinja2 in /home/florianthaler/Documents/research/pylopt/.venv/lib/python3.11/site-packages (from torch>=2.6.0->pylopt==0.1.0) (3.1.6)\n",
      "Requirement already satisfied: fsspec in /home/florianthaler/Documents/research/pylopt/.venv/lib/python3.11/site-packages (from torch>=2.6.0->pylopt==0.1.0) (2025.9.0)\n",
      "Requirement already satisfied: nvidia-cuda-nvrtc-cu12==12.4.127 in /home/florianthaler/Documents/research/pylopt/.venv/lib/python3.11/site-packages (from torch>=2.6.0->pylopt==0.1.0) (12.4.127)\n",
      "Requirement already satisfied: nvidia-cuda-runtime-cu12==12.4.127 in /home/florianthaler/Documents/research/pylopt/.venv/lib/python3.11/site-packages (from torch>=2.6.0->pylopt==0.1.0) (12.4.127)\n",
      "Requirement already satisfied: nvidia-cuda-cupti-cu12==12.4.127 in /home/florianthaler/Documents/research/pylopt/.venv/lib/python3.11/site-packages (from torch>=2.6.0->pylopt==0.1.0) (12.4.127)\n",
      "Requirement already satisfied: nvidia-cudnn-cu12==9.1.0.70 in /home/florianthaler/Documents/research/pylopt/.venv/lib/python3.11/site-packages (from torch>=2.6.0->pylopt==0.1.0) (9.1.0.70)\n",
      "Requirement already satisfied: nvidia-cublas-cu12==12.4.5.8 in /home/florianthaler/Documents/research/pylopt/.venv/lib/python3.11/site-packages (from torch>=2.6.0->pylopt==0.1.0) (12.4.5.8)\n",
      "Requirement already satisfied: nvidia-cufft-cu12==11.2.1.3 in /home/florianthaler/Documents/research/pylopt/.venv/lib/python3.11/site-packages (from torch>=2.6.0->pylopt==0.1.0) (11.2.1.3)\n",
      "Requirement already satisfied: nvidia-curand-cu12==10.3.5.147 in /home/florianthaler/Documents/research/pylopt/.venv/lib/python3.11/site-packages (from torch>=2.6.0->pylopt==0.1.0) (10.3.5.147)\n",
      "Requirement already satisfied: nvidia-cusolver-cu12==11.6.1.9 in /home/florianthaler/Documents/research/pylopt/.venv/lib/python3.11/site-packages (from torch>=2.6.0->pylopt==0.1.0) (11.6.1.9)\n",
      "Requirement already satisfied: nvidia-cusparse-cu12==12.3.1.170 in /home/florianthaler/Documents/research/pylopt/.venv/lib/python3.11/site-packages (from torch>=2.6.0->pylopt==0.1.0) (12.3.1.170)\n",
      "Requirement already satisfied: nvidia-cusparselt-cu12==0.6.2 in /home/florianthaler/Documents/research/pylopt/.venv/lib/python3.11/site-packages (from torch>=2.6.0->pylopt==0.1.0) (0.6.2)\n",
      "Requirement already satisfied: nvidia-nccl-cu12==2.21.5 in /home/florianthaler/Documents/research/pylopt/.venv/lib/python3.11/site-packages (from torch>=2.6.0->pylopt==0.1.0) (2.21.5)\n",
      "Requirement already satisfied: nvidia-nvtx-cu12==12.4.127 in /home/florianthaler/Documents/research/pylopt/.venv/lib/python3.11/site-packages (from torch>=2.6.0->pylopt==0.1.0) (12.4.127)\n",
      "Requirement already satisfied: nvidia-nvjitlink-cu12==12.4.127 in /home/florianthaler/Documents/research/pylopt/.venv/lib/python3.11/site-packages (from torch>=2.6.0->pylopt==0.1.0) (12.4.127)\n",
      "Requirement already satisfied: triton==3.2.0 in /home/florianthaler/Documents/research/pylopt/.venv/lib/python3.11/site-packages (from torch>=2.6.0->pylopt==0.1.0) (3.2.0)\n",
      "Requirement already satisfied: sympy==1.13.1 in /home/florianthaler/Documents/research/pylopt/.venv/lib/python3.11/site-packages (from torch>=2.6.0->pylopt==0.1.0) (1.13.1)\n",
      "Requirement already satisfied: mpmath<1.4,>=1.1.0 in /home/florianthaler/Documents/research/pylopt/.venv/lib/python3.11/site-packages (from sympy==1.13.1->torch>=2.6.0->pylopt==0.1.0) (1.3.0)\n",
      "Requirement already satisfied: six>=1.5 in /home/florianthaler/Documents/research/pylopt/.venv/lib/python3.11/site-packages (from python-dateutil>=2.7->matplotlib>=3.10.1->pylopt==0.1.0) (1.17.0)\n",
      "Requirement already satisfied: MarkupSafe>=2.0 in /home/florianthaler/Documents/research/pylopt/.venv/lib/python3.11/site-packages (from jinja2->torch>=2.6.0->pylopt==0.1.0) (3.0.2)\n",
      "Installing collected packages: pylopt\n",
      "Successfully installed pylopt-0.1.0\n",
      "\n",
      "\u001b[1m[\u001b[0m\u001b[34;49mnotice\u001b[0m\u001b[1;39;49m]\u001b[0m\u001b[39;49m A new release of pip is available: \u001b[0m\u001b[31;49m24.0\u001b[0m\u001b[39;49m -> \u001b[0m\u001b[32;49m25.2\u001b[0m\n",
      "\u001b[1m[\u001b[0m\u001b[34;49mnotice\u001b[0m\u001b[1;39;49m]\u001b[0m\u001b[39;49m To update, run: \u001b[0m\u001b[32;49mpip install --upgrade pip\u001b[0m\n"
     ]
    }
   ],
   "source": [
    "!pip install ../../../artefacts/pylopt-0.1.0-py3-none-any.whl"
   ]
  },
  {
   "cell_type": "code",
   "execution_count": 12,
   "id": "e91e2450-764c-46d9-83e2-d9d4ace231ff",
   "metadata": {},
   "outputs": [],
   "source": [
    "import os\n",
    "import torch\n",
    "from torch.utils.data import DataLoader\n",
    "from pathlib import Path"
   ]
  },
  {
   "cell_type": "code",
   "execution_count": 4,
   "id": "ed8f19cf-ce53-4f82-a6a0-d9c18dc31202",
   "metadata": {},
   "outputs": [],
   "source": [
    "torch.manual_seed(123)\n",
    "\n",
    "device = torch.device('cuda' if torch.cuda.is_available() else 'cpu')\n",
    "dtype = torch.float32"
   ]
  },
  {
   "cell_type": "markdown",
   "id": "1ee71a93-e117-4f68-afe5-349d24c90e7c",
   "metadata": {},
   "source": [
    "### Setup training dataset"
   ]
  },
  {
   "cell_type": "code",
   "execution_count": 5,
   "id": "ec05a914-c5d8-44f9-a7d0-2927445e04ab",
   "metadata": {},
   "outputs": [],
   "source": [
    "from pylopt.dataset.ImageDataset import TestImageDataset, TrainingImageDataset\n",
    "\n",
    "train_data_root_dir = '/home/florianthaler/Documents/data/image_data/BSDS300/images/train'\n",
    "train_image_dataset = TrainingImageDataset(root_path=train_data_root_dir, dtype=dtype)\n",
    "batch_size = 128\n",
    "crop_size = 64"
   ]
  },
  {
   "cell_type": "markdown",
   "id": "3ee52b02-6f9f-4be3-ba24-9fa8c217d71e",
   "metadata": {},
   "source": [
    "### Setup test dataset"
   ]
  },
  {
   "cell_type": "code",
   "execution_count": 6,
   "id": "276aeb2b-a480-4537-8a71-95089d718822",
   "metadata": {},
   "outputs": [],
   "source": [
    "test_data_root_dir = '/home/florianthaler/Documents/data/image_data/some_images'\n",
    "test_image_dataset = TestImageDataset(root_path=test_data_root_dir, dtype=dtype)"
   ]
  },
  {
   "cell_type": "markdown",
   "id": "4325a950-bcfe-4309-a7de-3ae6f3568ec4",
   "metadata": {},
   "source": [
    "### Setup regulariser"
   ]
  },
  {
   "cell_type": "code",
   "execution_count": 9,
   "id": "9910cc8a-80df-470b-9059-d77691d2e182",
   "metadata": {},
   "outputs": [
    {
     "ename": "ModuleNotFoundError",
     "evalue": "No module named 'pylopt'",
     "output_type": "error",
     "traceback": [
      "\u001b[31m---------------------------------------------------------------------------\u001b[39m",
      "\u001b[31mModuleNotFoundError\u001b[39m                       Traceback (most recent call last)",
      "\u001b[36mCell\u001b[39m\u001b[36m \u001b[39m\u001b[32mIn[9]\u001b[39m\u001b[32m, line 1\u001b[39m\n\u001b[32m----> \u001b[39m\u001b[32m1\u001b[39m \u001b[38;5;28;01mfrom\u001b[39;00m\u001b[38;5;250m \u001b[39m\u001b[34;01mpylopt\u001b[39;00m\u001b[34;01m.\u001b[39;00m\u001b[34;01mexamples\u001b[39;00m\u001b[34;01m.\u001b[39;00m\u001b[34;01mscripts\u001b[39;00m\u001b[38;5;250m \u001b[39m\u001b[38;5;28;01mimport\u001b[39;00m PRETRAINED_FILTER_MODELS, PRETRAINED_POTENTIAL_MODELS\n\u001b[32m      2\u001b[39m \u001b[38;5;28;01mfrom\u001b[39;00m\u001b[38;5;250m \u001b[39m\u001b[34;01mpylopt\u001b[39;00m\u001b[34;01m.\u001b[39;00m\u001b[34;01mutils\u001b[39;00m\u001b[34;01m.\u001b[39;00m\u001b[34;01mfile_system_utils\u001b[39;00m\u001b[38;5;250m \u001b[39m\u001b[38;5;28;01mimport\u001b[39;00m create_experiment_dir, get_repo_root_path\n\u001b[32m      3\u001b[39m \u001b[38;5;28;01mfrom\u001b[39;00m\u001b[38;5;250m \u001b[39m\u001b[34;01mpylopt\u001b[39;00m\u001b[34;01m.\u001b[39;00m\u001b[34;01mregularisers\u001b[39;00m\u001b[34;01m.\u001b[39;00m\u001b[34;01mfields_of_experts\u001b[39;00m\u001b[34;01m.\u001b[39;00m\u001b[34;01mImageFilter\u001b[39;00m\u001b[38;5;250m \u001b[39m\u001b[38;5;28;01mimport\u001b[39;00m ImageFilter\n",
      "\u001b[31mModuleNotFoundError\u001b[39m: No module named 'pylopt'"
     ]
    }
   ],
   "source": [
    "from pylopt.examples.scripts import PRETRAINED_FILTER_MODELS, PRETRAINED_POTENTIAL_MODELS\n",
    "from pylopt.utils.file_system_utils import create_experiment_dir, get_repo_root_path\n",
    "from pylopt.regularisers.fields_of_experts.ImageFilter import ImageFilter\n",
    "from pylopt.regularisers.fields_of_experts.potential import StudentT\n",
    "from pylopt.regularisers.fields_of_experts.FieldsOfExperts import FieldsOfExperts\n",
    "\n",
    "repo_root_path = get_repo_root_path(Path().resolve())\n",
    "image_filter = ImageFilter.from_file(os.path.join(repo_root_path, \n",
    "                                                  'data', 'model_data',\n",
    "                                                  PRETRAINED_FILTER_MODELS['chen-ranftl-pock_2014_scaled_7x7']))\n",
    "\n",
    "image_filter.freeze()           # freeze image_filter, i.e. parameters are not trainable\n",
    "potential = StudentT(num_marginals=48, initialisation_mode='uniform', multiplier=0.0005, trainable=True)\n",
    "regulariser = FieldsOfExperts(potential, image_filter)"
   ]
  },
  {
   "cell_type": "markdown",
   "id": "e2e3d9f7-d438-4229-b746-d11580e3d813",
   "metadata": {},
   "source": [
    "### Setup lower-level solution method"
   ]
  },
  {
   "cell_type": "code",
   "execution_count": 14,
   "id": "f0325538-202a-4a28-95bd-20cdf2fbb6f4",
   "metadata": {},
   "outputs": [],
   "source": [
    "method_lower = 'nag'\n",
    "options_lower = {'max_num_iterations': 300, 'rel_tol': 1e-5, 'lip_const': 1e5, 'batch_optimisation': False}"
   ]
  },
  {
   "cell_type": "markdown",
   "id": "e8e567ee-578b-493a-a376-fcaf47aa5c64",
   "metadata": {},
   "source": [
    "### Setup BilevelOptimisation class"
   ]
  },
  {
   "cell_type": "code",
   "execution_count": 15,
   "id": "0751c0ea-abc2-44fc-8c6f-9fb4d6b65a12",
   "metadata": {},
   "outputs": [],
   "source": [
    "from pylopt.bilevel_problem import BilevelOptimisation\n",
    "\n",
    "path_to_experiment_dir = os.path.join(os.getcwd(), 'experiment')\n",
    "if not os.path.exists(path_to_experiment_dir):\n",
    "    os.makedirs(path_to_experiment_dir)\n",
    "\n",
    "bilevel_optimisation = BilevelOptimisation(method_lower, \n",
    "                                           options_lower, \n",
    "                                           operator=torch.nn.Identity(),\n",
    "                                           noise_level=0.1,\n",
    "                                           differentiation_method='hessian_free',\n",
    "                                           path_to_experiments_dir=path_to_experiment_dir)"
   ]
  },
  {
   "cell_type": "markdown",
   "id": "68ece264-a8e5-4211-a7d1-40ff39f20d53",
   "metadata": {},
   "source": [
    "### Initial test loss and psnr"
   ]
  },
  {
   "cell_type": "code",
   "execution_count": 10,
   "id": "44d8638d-1483-47de-b6e1-38785ce7a3e4",
   "metadata": {},
   "outputs": [],
   "source": [
    "from pylopt.lower_problem import solve_lower\n",
    "\n",
    "lower_prob_result = solve_lower(energy=energy, method=method, options=options)\n"
   ]
  },
  {
   "cell_type": "markdown",
   "id": "ac73e050-c998-4092-9f95-9f2e3cc89518",
   "metadata": {},
   "source": [
    "### Training loop"
   ]
  },
  {
   "cell_type": "code",
   "execution_count": 11,
   "id": "faf1d2dd-324d-42a7-9a85-33456057e9ef",
   "metadata": {},
   "outputs": [],
   "source": [
    "lam = 10"
   ]
  },
  {
   "cell_type": "markdown",
   "id": "09592bd1-07a5-4f12-938e-3e13b89545b8",
   "metadata": {},
   "source": [
    "### Callbacks and schedulers"
   ]
  },
  {
   "cell_type": "code",
   "execution_count": null,
   "id": "6c77c45c-07c8-4237-a601-7bff2461a258",
   "metadata": {
    "scrolled": true
   },
   "outputs": [],
   "source": [
    "from torch.utils.tensorboard import SummaryWriter\n",
    "from pylopt.callbacks import SaveModel, PlotFiltersAndPotentials, TrainingMonitor\n",
    "from pylopt.scheduler import CosineAnnealingLRScheduler\n",
    "\n",
    "tb_writer = SummaryWriter(log_dir=os.path.join(path_to_eval_dir, 'tensorboard'))\n",
    "callbacks = [PlotFiltersAndPotentials(test_image_dataset, \n",
    "                                      path_to_data_dir=path_to_eval_dir,\n",
    "                                      plotting_freq=2, \n",
    "                                      tb_writer=tb_writer),\n",
    "             SaveModel(path_to_data_dir=path_to_eval_dir, \n",
    "                       save_freq=2),\n",
    "             TrainingMonitor(test_image_dataset, \n",
    "                             config, \n",
    "                             method_lower, \n",
    "                             options_lower, \n",
    "                             l2_loss_func,\n",
    "                             path_to_eval_dir, \n",
    "                             evaluation_freq=1, \n",
    "                             tb_writer=tb_writer)\n",
    "            ]\n",
    "\n",
    "schedulers = [CosineAnnealingLRScheduler(step_begin=500, \n",
    "                                         restart_cycle=None,\n",
    "                                         step_end=8500,\n",
    "                                         lr_min=1e-5)]"
   ]
  },
  {
   "cell_type": "code",
   "execution_count": null,
   "id": "6280fb32-36db-4ff5-bfac-40b0e2021cf7",
   "metadata": {},
   "outputs": [],
   "source": [
    "method_upper = 'adam'\n",
    "max_num_iterations = 10000\n",
    "\n",
    "bilevel_optimisation.learn(regulariser, \n",
    "                           lam, \n",
    "                           l2_loss_func, \n",
    "                           train_image_dataset,\n",
    "                           optimisation_method_upper=method_upper, \n",
    "                           optimisation_options_upper=options_upper,\n",
    "                           dtype=dtype, device=device, \n",
    "                           callbacks=callbacks, \n",
    "                           schedulers=schedulers)"
   ]
  },
  {
   "cell_type": "markdown",
   "id": "563f8c11-834e-49ee-bf4b-5bcd400d4c21",
   "metadata": {},
   "source": [
    "### Store trained model and visualisations of training results"
   ]
  },
  {
   "cell_type": "code",
   "execution_count": 13,
   "id": "13a855db-652f-441e-a404-3e20ad5ab9cb",
   "metadata": {},
   "outputs": [],
   "source": [
    "save_foe_model(regulariser, os.path.join(path_to_eval_dir, 'models'), model_dir_name='final')\n",
    "\n",
    "visualise_training_stats(train_loss_list, test_loss_list, psnr_list, evaluation_freq, path_to_eval_dir)\n",
    "visualise_filter_stats(filters_list, path_to_eval_dir)"
   ]
  }
 ],
 "metadata": {
  "kernelspec": {
   "display_name": "Python 3 (ipykernel)",
   "language": "python",
   "name": "python3"
  },
  "language_info": {
   "codemirror_mode": {
    "name": "ipython",
    "version": 3
   },
   "file_extension": ".py",
   "mimetype": "text/x-python",
   "name": "python",
   "nbconvert_exporter": "python",
   "pygments_lexer": "ipython3",
   "version": "3.11.13"
  }
 },
 "nbformat": 4,
 "nbformat_minor": 5
}
