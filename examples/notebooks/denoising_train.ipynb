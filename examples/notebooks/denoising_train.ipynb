{
 "cells": [
  {
   "cell_type": "code",
   "execution_count": null,
   "id": "3f9e9005-8437-4ca3-a665-326fac601363",
   "metadata": {},
   "outputs": [],
   "source": [
    "!pip uninstall pylopt -y"
   ]
  },
  {
   "cell_type": "code",
   "execution_count": null,
   "id": "ecaa8a57-0ae4-434e-b06a-7be9cf715102",
   "metadata": {},
   "outputs": [],
   "source": [
    "!pip install ../../artefacts/pylopt-1.0.0-py3-none-any.whl"
   ]
  },
  {
   "cell_type": "code",
   "execution_count": null,
   "id": "e91e2450-764c-46d9-83e2-d9d4ace231ff",
   "metadata": {},
   "outputs": [],
   "source": [
    "import os\n",
    "import torch\n",
    "from torch.utils.data import DataLoader\n",
    "from pathlib import Path"
   ]
  },
  {
   "cell_type": "code",
   "execution_count": null,
   "id": "ed8f19cf-ce53-4f82-a6a0-d9c18dc31202",
   "metadata": {},
   "outputs": [],
   "source": [
    "torch.manual_seed(123)\n",
    "\n",
    "device = torch.device('cuda' if torch.cuda.is_available() else 'cpu')\n",
    "dtype = torch.float32"
   ]
  },
  {
   "cell_type": "markdown",
   "id": "1ee71a93-e117-4f68-afe5-349d24c90e7c",
   "metadata": {},
   "source": [
    "### Setup training dataset"
   ]
  },
  {
   "cell_type": "code",
   "execution_count": null,
   "id": "ec05a914-c5d8-44f9-a7d0-2927445e04ab",
   "metadata": {},
   "outputs": [],
   "source": [
    "from pylopt.dataset.ImageDataset import TestImageDataset, TrainingImageDataset\n",
    "\n",
    "train_data_root_dir = '/home/florianthaler/Documents/data/image_data/BSDS300/images/train'\n",
    "train_image_dataset = TrainingImageDataset(root_path=train_data_root_dir, dtype=dtype)\n",
    "batch_size = 128\n",
    "crop_size = 64"
   ]
  },
  {
   "cell_type": "markdown",
   "id": "3ee52b02-6f9f-4be3-ba24-9fa8c217d71e",
   "metadata": {},
   "source": [
    "### Setup test dataset"
   ]
  },
  {
   "cell_type": "code",
   "execution_count": null,
   "id": "276aeb2b-a480-4537-8a71-95089d718822",
   "metadata": {},
   "outputs": [],
   "source": [
    "from pylopt.dataset.dataset_utils import collate_function\n",
    "\n",
    "test_data_root_dir = '/home/florianthaler/Documents/data/image_data/some_images'\n",
    "test_image_dataset = TestImageDataset(root_path=test_data_root_dir, dtype=dtype)\n",
    "test_loader = DataLoader(test_image_dataset, batch_size=len(test_image_dataset), shuffle=False,\n",
    "                         collate_fn=lambda x: collate_function(x, crop_size=-1))"
   ]
  },
  {
   "cell_type": "markdown",
   "id": "4325a950-bcfe-4309-a7de-3ae6f3568ec4",
   "metadata": {},
   "source": [
    "### Setup regulariser (filters: non trainable, potentials: trainable)"
   ]
  },
  {
   "cell_type": "code",
   "execution_count": null,
   "id": "6c5bb741-a457-4e5a-8128-6a1ada411168",
   "metadata": {},
   "outputs": [],
   "source": [
    "PRETRAINED_FILTER_MODELS = {'chen-ranftl-pock_2014_scaled_7x7': 'filters_7x7_chen-ranftl-pock_2014_scaled.pt', \n",
    "                            'pylopt_2025_7x7_II': 'filters_7x7_pylopt_2025_II.pt'}\n",
    "PRETRAINED_POTENTIAL_MODELS = {'pylopt_2025_student_t_I)': 'student_t_potential_2025_pylopt_I.pt'}"
   ]
  },
  {
   "cell_type": "code",
   "execution_count": null,
   "id": "9910cc8a-80df-470b-9059-d77691d2e182",
   "metadata": {},
   "outputs": [],
   "source": [
    "from pylopt.utils.file_system_utils import create_experiment_dir, get_repo_root_path\n",
    "from pylopt.regularisers.fields_of_experts.ImageFilter import ImageFilter\n",
    "from pylopt.regularisers.fields_of_experts.potential import StudentT\n",
    "from pylopt.regularisers.fields_of_experts.FieldsOfExperts import FieldsOfExperts\n",
    "\n",
    "repo_root_path = get_repo_root_path(Path().resolve())\n",
    "image_filter = ImageFilter.from_file(os.path.join(repo_root_path, \n",
    "                                                  'data', 'model_data',\n",
    "                                                  PRETRAINED_FILTER_MODELS['chen-ranftl-pock_2014_scaled_7x7']))\n",
    "\n",
    "image_filter.freeze()           # freeze image_filter, i.e. parameters are not trainable\n",
    "potential = StudentT(num_marginals=48, init_options={'mode': 'uniform', 'multiplier': 0.0001}, trainable=True)\n",
    "regulariser = FieldsOfExperts(potential, image_filter)"
   ]
  },
  {
   "cell_type": "markdown",
   "id": "e2e3d9f7-d438-4229-b746-d11580e3d813",
   "metadata": {},
   "source": [
    "### Setup lower-level solution method"
   ]
  },
  {
   "cell_type": "code",
   "execution_count": null,
   "id": "f0325538-202a-4a28-95bd-20cdf2fbb6f4",
   "metadata": {},
   "outputs": [],
   "source": [
    "method_lower = 'nag'\n",
    "options_lower = {'max_num_iterations': 300, 'rel_tol': 1e-5, 'lip_const': 1e5, 'batch_optimisation': False}"
   ]
  },
  {
   "cell_type": "markdown",
   "id": "e8e567ee-578b-493a-a376-fcaf47aa5c64",
   "metadata": {},
   "source": [
    "### Setup BilevelOptimisation class"
   ]
  },
  {
   "cell_type": "code",
   "execution_count": null,
   "id": "0751c0ea-abc2-44fc-8c6f-9fb4d6b65a12",
   "metadata": {},
   "outputs": [],
   "source": [
    "from pylopt.bilevel_problem import BilevelOptimisation\n",
    "\n",
    "path_to_experiment_dir = os.path.join(os.getcwd(), 'experiment')\n",
    "if not os.path.exists(path_to_experiment_dir):\n",
    "    os.makedirs(path_to_experiment_dir)\n",
    "\n",
    "bilevel_optimisation = BilevelOptimisation(method_lower, \n",
    "                                           options_lower, \n",
    "                                           operator=torch.nn.Identity(),\n",
    "                                           noise_level=0.1,\n",
    "                                           differentiation_method='hessian_free',\n",
    "                                           path_to_experiments_dir=path_to_experiment_dir)"
   ]
  },
  {
   "cell_type": "code",
   "execution_count": null,
   "id": "821867e8-d0fd-42fc-bd4e-7f75a3324a98",
   "metadata": {},
   "outputs": [],
   "source": [
    "lam = 10"
   ]
  },
  {
   "cell_type": "markdown",
   "id": "68ece264-a8e5-4211-a7d1-40ff39f20d53",
   "metadata": {},
   "source": [
    "### Initial test loss and psnr"
   ]
  },
  {
   "cell_type": "code",
   "execution_count": null,
   "id": "44d8638d-1483-47de-b6e1-38785ce7a3e4",
   "metadata": {},
   "outputs": [],
   "source": [
    "from pylopt.energy import Energy, MeasurementModel\n",
    "from pylopt.lower_problem import solve_lower\n",
    "from pylopt.utils.evaluation_utils import compute_psnr\n",
    "\n",
    "test_batch_clean = list(test_loader)[0]\n",
    "test_batch_clean = test_batch_clean.to(device=device, dtype=dtype)\n",
    "\n",
    "measurement_model = MeasurementModel(test_batch_clean, torch.nn.Identity(), noise_level=0.1)\n",
    "energy = Energy(measurement_model, regulariser, lam)\n",
    "energy.to(device=device, dtype=dtype)\n",
    "test_batch_noisy = measurement_model.get_noisy_observation()\n",
    "\n",
    "lower_prob_result = solve_lower(energy=energy, method=method_lower, options=options_lower)\n",
    "psnr = torch.mean(compute_psnr(energy.measurement_model.get_clean_data(), lower_prob_result.solution))\n",
    "psnr = psnr.detach().cpu().item()\n",
    "\n",
    "print('psnr [dB]: {:.5f}'.format(psnr))"
   ]
  },
  {
   "cell_type": "markdown",
   "id": "09592bd1-07a5-4f12-938e-3e13b89545b8",
   "metadata": {},
   "source": [
    "### Callbacks and schedulers"
   ]
  },
  {
   "cell_type": "code",
   "execution_count": null,
   "id": "9449f88f-635f-4db4-81a6-808e385b326e",
   "metadata": {},
   "outputs": [],
   "source": [
    "def l2_loss_func(x: torch.Tensor, y: torch.Tensor) -> torch.Tensor:\n",
    "    return 0.5 * torch.sum((x - y) ** 2)"
   ]
  },
  {
   "cell_type": "code",
   "execution_count": null,
   "id": "6c77c45c-07c8-4237-a601-7bff2461a258",
   "metadata": {
    "scrolled": true
   },
   "outputs": [],
   "source": [
    "from torch.utils.tensorboard import SummaryWriter\n",
    "from pylopt.bilevel_problem.callbacks import SaveModel, PlotFiltersAndPotentials, TrainingMonitor\n",
    "from pylopt.bilevel_problem.scheduler import CosineAnnealingLRScheduler\n",
    "\n",
    "tb_writer = SummaryWriter(log_dir=os.path.join(path_to_experiment_dir, 'tensorboard'))\n",
    "callbacks = [PlotFiltersAndPotentials(test_image_dataset, \n",
    "                                      path_to_data_dir=path_to_experiment_dir,\n",
    "                                      plotting_freq=2, \n",
    "                                      tb_writer=tb_writer),\n",
    "             SaveModel(path_to_data_dir=path_to_experiment_dir, \n",
    "                       save_freq=2),\n",
    "             TrainingMonitor(test_image_dataset, \n",
    "                             method_lower, \n",
    "                             options_lower, \n",
    "                             l2_loss_func,\n",
    "                             path_to_experiment_dir, \n",
    "                             operator=torch.nn.Identity(),\n",
    "                             noise_level=0.1,\n",
    "                             lam=lam,\n",
    "                             evaluation_freq=1, \n",
    "                             tb_writer=tb_writer)\n",
    "            ]\n",
    "\n",
    "schedulers = [CosineAnnealingLRScheduler(step_begin=50, \n",
    "                                         restart_cycle=None,\n",
    "                                         step_end=80,\n",
    "                                         lr_min=1e-5)]"
   ]
  },
  {
   "cell_type": "markdown",
   "id": "514f84b3-9d95-4896-ae65-6ee29e1342b0",
   "metadata": {},
   "source": [
    "### Setup logger"
   ]
  },
  {
   "cell_type": "code",
   "execution_count": null,
   "id": "cdb965db-8007-494c-b0af-6b0d684b4a2a",
   "metadata": {},
   "outputs": [],
   "source": [
    "import logging\n",
    "import sys\n",
    "\n",
    "for handler in logging.root.handlers[:]:\n",
    "    logging.root.removeHandler(handler)\n",
    "\n",
    "logging.basicConfig(\n",
    "    stream=sys.stdout,\n",
    "    level=logging.INFO,\n",
    "    format=\"%(asctime)s [%(levelname)s] %(name)s: %(message)s\"\n",
    ")\n",
    "\n",
    "\n",
    "logger = logging.getLogger(\"pylopt\")\n",
    "logger.setLevel(logging.INFO)\n",
    "logger.propagate = True"
   ]
  },
  {
   "cell_type": "markdown",
   "id": "de80bacb-faea-4a00-9bd0-5ebe9cbc7c3c",
   "metadata": {},
   "source": [
    "### Start training"
   ]
  },
  {
   "cell_type": "code",
   "execution_count": null,
   "id": "6280fb32-36db-4ff5-bfac-40b0e2021cf7",
   "metadata": {},
   "outputs": [],
   "source": [
    "max_num_iterations = 100\n",
    "method_upper = 'adam'\n",
    "options_upper = {'max_num_iterations': max_num_iterations, 'lr': [1e-1], 'alternating': True}\n",
    "\n",
    "bilevel_optimisation.learn(regulariser, \n",
    "                           lam, \n",
    "                           l2_loss_func, \n",
    "                           train_image_dataset,\n",
    "                           optimisation_method_upper=method_upper, \n",
    "                           optimisation_options_upper=options_upper,\n",
    "                           dtype=dtype, device=device, \n",
    "                           callbacks=callbacks, \n",
    "                           schedulers=schedulers)"
   ]
  },
  {
   "cell_type": "markdown",
   "id": "563f8c11-834e-49ee-bf4b-5bcd400d4c21",
   "metadata": {},
   "source": [
    "### Store trained model and visualisations of training results"
   ]
  },
  {
   "cell_type": "code",
   "execution_count": null,
   "id": "13a855db-652f-441e-a404-3e20ad5ab9cb",
   "metadata": {},
   "outputs": [],
   "source": [
    "save_foe_model(regulariser, os.path.join(path_to_eval_dir, 'models'), model_dir_name='final')\n",
    "\n",
    "visualise_training_stats(train_loss_list, test_loss_list, psnr_list, evaluation_freq, path_to_eval_dir)\n",
    "visualise_filter_stats(filters_list, path_to_eval_dir)"
   ]
  }
 ],
 "metadata": {
  "kernelspec": {
   "display_name": "Python 3 (ipykernel)",
   "language": "python",
   "name": "python3"
  },
  "language_info": {
   "codemirror_mode": {
    "name": "ipython",
    "version": 3
   },
   "file_extension": ".py",
   "mimetype": "text/x-python",
   "name": "python",
   "nbconvert_exporter": "python",
   "pygments_lexer": "ipython3",
   "version": "3.11.13"
  }
 },
 "nbformat": 4,
 "nbformat_minor": 5
}
