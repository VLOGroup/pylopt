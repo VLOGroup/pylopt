{
 "cells": [
  {
   "cell_type": "code",
   "execution_count": 1,
   "id": "3f9e9005-8437-4ca3-a665-326fac601363",
   "metadata": {},
   "outputs": [
    {
     "name": "stdout",
     "output_type": "stream",
     "text": [
      "Found existing installation: PyLOpt 1.0.0\n",
      "Uninstalling PyLOpt-1.0.0:\n",
      "  Successfully uninstalled PyLOpt-1.0.0\n"
     ]
    }
   ],
   "source": [
    "!pip uninstall pylopt -y"
   ]
  },
  {
   "cell_type": "code",
   "execution_count": 3,
   "id": "ecaa8a57-0ae4-434e-b06a-7be9cf715102",
   "metadata": {},
   "outputs": [
    {
     "name": "stdout",
     "output_type": "stream",
     "text": [
      "Processing /home/florianthaler/Documents/research/pylopt/artefacts/pylopt-1.0.0-py3-none-any.whl\n",
      "Requirement already satisfied: torch>=2.6.0 in /home/florianthaler/Documents/research/pylopt/.venv/lib/python3.11/site-packages (from pylopt==1.0.0) (2.6.0)\n",
      "Requirement already satisfied: numpy>=2.0.2 in /home/florianthaler/Documents/research/pylopt/.venv/lib/python3.11/site-packages (from pylopt==1.0.0) (2.0.2)\n",
      "Requirement already satisfied: confuse>=2.0.1 in /home/florianthaler/Documents/research/pylopt/.venv/lib/python3.11/site-packages (from pylopt==1.0.0) (2.0.1)\n",
      "Requirement already satisfied: scipy>=1.15.2 in /home/florianthaler/Documents/research/pylopt/.venv/lib/python3.11/site-packages (from pylopt==1.0.0) (1.15.2)\n",
      "Requirement already satisfied: opencv-python-headless>=4.11.0.86 in /home/florianthaler/Documents/research/pylopt/.venv/lib/python3.11/site-packages (from pylopt==1.0.0) (4.11.0.86)\n",
      "Requirement already satisfied: matplotlib>=3.10.1 in /home/florianthaler/Documents/research/pylopt/.venv/lib/python3.11/site-packages (from pylopt==1.0.0) (3.10.1)\n",
      "Requirement already satisfied: PyQt5>=5.15.11 in /home/florianthaler/Documents/research/pylopt/.venv/lib/python3.11/site-packages (from pylopt==1.0.0) (5.15.11)\n",
      "Requirement already satisfied: torchvision>=0.21.0 in /home/florianthaler/Documents/research/pylopt/.venv/lib/python3.11/site-packages (from pylopt==1.0.0) (0.21.0)\n",
      "Requirement already satisfied: pillow>=11.1.0 in /home/florianthaler/Documents/research/pylopt/.venv/lib/python3.11/site-packages (from pylopt==1.0.0) (11.1.0)\n",
      "Requirement already satisfied: ninja>=1.13.0 in /home/florianthaler/Documents/research/pylopt/.venv/lib/python3.11/site-packages (from pylopt==1.0.0) (1.13.0)\n",
      "Requirement already satisfied: quartic_bspline_extension>=0.3.0 in /home/florianthaler/Documents/research/pylopt/.venv/lib/python3.11/site-packages (from pylopt==1.0.0) (0.3.0)\n",
      "Requirement already satisfied: pyyaml in /home/florianthaler/Documents/research/pylopt/.venv/lib/python3.11/site-packages (from confuse>=2.0.1->pylopt==1.0.0) (6.0.2)\n",
      "Requirement already satisfied: contourpy>=1.0.1 in /home/florianthaler/Documents/research/pylopt/.venv/lib/python3.11/site-packages (from matplotlib>=3.10.1->pylopt==1.0.0) (1.3.3)\n",
      "Requirement already satisfied: cycler>=0.10 in /home/florianthaler/Documents/research/pylopt/.venv/lib/python3.11/site-packages (from matplotlib>=3.10.1->pylopt==1.0.0) (0.12.1)\n",
      "Requirement already satisfied: fonttools>=4.22.0 in /home/florianthaler/Documents/research/pylopt/.venv/lib/python3.11/site-packages (from matplotlib>=3.10.1->pylopt==1.0.0) (4.60.0)\n",
      "Requirement already satisfied: kiwisolver>=1.3.1 in /home/florianthaler/Documents/research/pylopt/.venv/lib/python3.11/site-packages (from matplotlib>=3.10.1->pylopt==1.0.0) (1.4.9)\n",
      "Requirement already satisfied: packaging>=20.0 in /home/florianthaler/Documents/research/pylopt/.venv/lib/python3.11/site-packages (from matplotlib>=3.10.1->pylopt==1.0.0) (25.0)\n",
      "Requirement already satisfied: pyparsing>=2.3.1 in /home/florianthaler/Documents/research/pylopt/.venv/lib/python3.11/site-packages (from matplotlib>=3.10.1->pylopt==1.0.0) (3.2.5)\n",
      "Requirement already satisfied: python-dateutil>=2.7 in /home/florianthaler/Documents/research/pylopt/.venv/lib/python3.11/site-packages (from matplotlib>=3.10.1->pylopt==1.0.0) (2.9.0.post0)\n",
      "Requirement already satisfied: PyQt5-sip<13,>=12.15 in /home/florianthaler/Documents/research/pylopt/.venv/lib/python3.11/site-packages (from PyQt5>=5.15.11->pylopt==1.0.0) (12.17.0)\n",
      "Requirement already satisfied: PyQt5-Qt5<5.16.0,>=5.15.2 in /home/florianthaler/Documents/research/pylopt/.venv/lib/python3.11/site-packages (from PyQt5>=5.15.11->pylopt==1.0.0) (5.15.17)\n",
      "Requirement already satisfied: filelock in /home/florianthaler/Documents/research/pylopt/.venv/lib/python3.11/site-packages (from torch>=2.6.0->pylopt==1.0.0) (3.19.1)\n",
      "Requirement already satisfied: typing-extensions>=4.10.0 in /home/florianthaler/Documents/research/pylopt/.venv/lib/python3.11/site-packages (from torch>=2.6.0->pylopt==1.0.0) (4.15.0)\n",
      "Requirement already satisfied: networkx in /home/florianthaler/Documents/research/pylopt/.venv/lib/python3.11/site-packages (from torch>=2.6.0->pylopt==1.0.0) (3.5)\n",
      "Requirement already satisfied: jinja2 in /home/florianthaler/Documents/research/pylopt/.venv/lib/python3.11/site-packages (from torch>=2.6.0->pylopt==1.0.0) (3.1.6)\n",
      "Requirement already satisfied: fsspec in /home/florianthaler/Documents/research/pylopt/.venv/lib/python3.11/site-packages (from torch>=2.6.0->pylopt==1.0.0) (2025.9.0)\n",
      "Requirement already satisfied: nvidia-cuda-nvrtc-cu12==12.4.127 in /home/florianthaler/Documents/research/pylopt/.venv/lib/python3.11/site-packages (from torch>=2.6.0->pylopt==1.0.0) (12.4.127)\n",
      "Requirement already satisfied: nvidia-cuda-runtime-cu12==12.4.127 in /home/florianthaler/Documents/research/pylopt/.venv/lib/python3.11/site-packages (from torch>=2.6.0->pylopt==1.0.0) (12.4.127)\n",
      "Requirement already satisfied: nvidia-cuda-cupti-cu12==12.4.127 in /home/florianthaler/Documents/research/pylopt/.venv/lib/python3.11/site-packages (from torch>=2.6.0->pylopt==1.0.0) (12.4.127)\n",
      "Requirement already satisfied: nvidia-cudnn-cu12==9.1.0.70 in /home/florianthaler/Documents/research/pylopt/.venv/lib/python3.11/site-packages (from torch>=2.6.0->pylopt==1.0.0) (9.1.0.70)\n",
      "Requirement already satisfied: nvidia-cublas-cu12==12.4.5.8 in /home/florianthaler/Documents/research/pylopt/.venv/lib/python3.11/site-packages (from torch>=2.6.0->pylopt==1.0.0) (12.4.5.8)\n",
      "Requirement already satisfied: nvidia-cufft-cu12==11.2.1.3 in /home/florianthaler/Documents/research/pylopt/.venv/lib/python3.11/site-packages (from torch>=2.6.0->pylopt==1.0.0) (11.2.1.3)\n",
      "Requirement already satisfied: nvidia-curand-cu12==10.3.5.147 in /home/florianthaler/Documents/research/pylopt/.venv/lib/python3.11/site-packages (from torch>=2.6.0->pylopt==1.0.0) (10.3.5.147)\n",
      "Requirement already satisfied: nvidia-cusolver-cu12==11.6.1.9 in /home/florianthaler/Documents/research/pylopt/.venv/lib/python3.11/site-packages (from torch>=2.6.0->pylopt==1.0.0) (11.6.1.9)\n",
      "Requirement already satisfied: nvidia-cusparse-cu12==12.3.1.170 in /home/florianthaler/Documents/research/pylopt/.venv/lib/python3.11/site-packages (from torch>=2.6.0->pylopt==1.0.0) (12.3.1.170)\n",
      "Requirement already satisfied: nvidia-cusparselt-cu12==0.6.2 in /home/florianthaler/Documents/research/pylopt/.venv/lib/python3.11/site-packages (from torch>=2.6.0->pylopt==1.0.0) (0.6.2)\n",
      "Requirement already satisfied: nvidia-nccl-cu12==2.21.5 in /home/florianthaler/Documents/research/pylopt/.venv/lib/python3.11/site-packages (from torch>=2.6.0->pylopt==1.0.0) (2.21.5)\n",
      "Requirement already satisfied: nvidia-nvtx-cu12==12.4.127 in /home/florianthaler/Documents/research/pylopt/.venv/lib/python3.11/site-packages (from torch>=2.6.0->pylopt==1.0.0) (12.4.127)\n",
      "Requirement already satisfied: nvidia-nvjitlink-cu12==12.4.127 in /home/florianthaler/Documents/research/pylopt/.venv/lib/python3.11/site-packages (from torch>=2.6.0->pylopt==1.0.0) (12.4.127)\n",
      "Requirement already satisfied: triton==3.2.0 in /home/florianthaler/Documents/research/pylopt/.venv/lib/python3.11/site-packages (from torch>=2.6.0->pylopt==1.0.0) (3.2.0)\n",
      "Requirement already satisfied: sympy==1.13.1 in /home/florianthaler/Documents/research/pylopt/.venv/lib/python3.11/site-packages (from torch>=2.6.0->pylopt==1.0.0) (1.13.1)\n",
      "Requirement already satisfied: mpmath<1.4,>=1.1.0 in /home/florianthaler/Documents/research/pylopt/.venv/lib/python3.11/site-packages (from sympy==1.13.1->torch>=2.6.0->pylopt==1.0.0) (1.3.0)\n",
      "Requirement already satisfied: six>=1.5 in /home/florianthaler/Documents/research/pylopt/.venv/lib/python3.11/site-packages (from python-dateutil>=2.7->matplotlib>=3.10.1->pylopt==1.0.0) (1.17.0)\n",
      "Requirement already satisfied: MarkupSafe>=2.0 in /home/florianthaler/Documents/research/pylopt/.venv/lib/python3.11/site-packages (from jinja2->torch>=2.6.0->pylopt==1.0.0) (3.0.2)\n",
      "Installing collected packages: pylopt\n",
      "Successfully installed pylopt-1.0.0\n",
      "\n",
      "\u001b[1m[\u001b[0m\u001b[34;49mnotice\u001b[0m\u001b[1;39;49m]\u001b[0m\u001b[39;49m A new release of pip is available: \u001b[0m\u001b[31;49m24.0\u001b[0m\u001b[39;49m -> \u001b[0m\u001b[32;49m25.2\u001b[0m\n",
      "\u001b[1m[\u001b[0m\u001b[34;49mnotice\u001b[0m\u001b[1;39;49m]\u001b[0m\u001b[39;49m To update, run: \u001b[0m\u001b[32;49mpip install --upgrade pip\u001b[0m\n"
     ]
    }
   ],
   "source": [
    "!pip install ../../artefacts/pylopt-1.0.0-py3-none-any.whl"
   ]
  },
  {
   "cell_type": "code",
   "execution_count": 4,
   "id": "e91e2450-764c-46d9-83e2-d9d4ace231ff",
   "metadata": {},
   "outputs": [],
   "source": [
    "import os\n",
    "import torch\n",
    "from torch.utils.data import DataLoader\n",
    "from pathlib import Path"
   ]
  },
  {
   "cell_type": "code",
   "execution_count": 5,
   "id": "ed8f19cf-ce53-4f82-a6a0-d9c18dc31202",
   "metadata": {},
   "outputs": [],
   "source": [
    "torch.manual_seed(123)\n",
    "\n",
    "device = torch.device('cuda' if torch.cuda.is_available() else 'cpu')\n",
    "dtype = torch.float32"
   ]
  },
  {
   "cell_type": "markdown",
   "id": "1ee71a93-e117-4f68-afe5-349d24c90e7c",
   "metadata": {},
   "source": [
    "### Setup training dataset"
   ]
  },
  {
   "cell_type": "code",
   "execution_count": 6,
   "id": "ec05a914-c5d8-44f9-a7d0-2927445e04ab",
   "metadata": {},
   "outputs": [],
   "source": [
    "from pylopt.dataset.ImageDataset import TestImageDataset, TrainingImageDataset\n",
    "\n",
    "train_data_root_dir = '/home/florianthaler/Documents/data/image_data/BSDS300/images/train'\n",
    "train_image_dataset = TrainingImageDataset(root_path=train_data_root_dir, dtype=dtype)\n",
    "batch_size = 128\n",
    "crop_size = 64"
   ]
  },
  {
   "cell_type": "markdown",
   "id": "3ee52b02-6f9f-4be3-ba24-9fa8c217d71e",
   "metadata": {},
   "source": [
    "### Setup test dataset"
   ]
  },
  {
   "cell_type": "code",
   "execution_count": 7,
   "id": "276aeb2b-a480-4537-8a71-95089d718822",
   "metadata": {},
   "outputs": [],
   "source": [
    "from pylopt.dataset.dataset_utils import collate_function\n",
    "\n",
    "test_data_root_dir = '/home/florianthaler/Documents/data/image_data/some_images'\n",
    "test_image_dataset = TestImageDataset(root_path=test_data_root_dir, dtype=dtype)\n",
    "test_loader = DataLoader(test_image_dataset, batch_size=len(test_image_dataset), shuffle=False,\n",
    "                         collate_fn=lambda x: collate_function(x, crop_size=-1))"
   ]
  },
  {
   "cell_type": "markdown",
   "id": "4325a950-bcfe-4309-a7de-3ae6f3568ec4",
   "metadata": {},
   "source": [
    "### Setup regulariser (filters: non trainable, potentials: trainable)"
   ]
  },
  {
   "cell_type": "code",
   "execution_count": 8,
   "id": "6c5bb741-a457-4e5a-8128-6a1ada411168",
   "metadata": {},
   "outputs": [],
   "source": [
    "PRETRAINED_FILTER_MODELS = {'chen-ranftl-pock_2014_scaled_7x7': 'filters_7x7_chen-ranftl-pock_2014_scaled.pt', \n",
    "                            'pylopt_2025_7x7_II': 'filters_7x7_pylopt_2025_II.pt'}\n",
    "PRETRAINED_POTENTIAL_MODELS = {'pylopt_2025_student_t_I)': 'student_t_potential_2025_pylopt_I.pt'}"
   ]
  },
  {
   "cell_type": "code",
   "execution_count": 26,
   "id": "9910cc8a-80df-470b-9059-d77691d2e182",
   "metadata": {},
   "outputs": [],
   "source": [
    "from pylopt.utils.file_system_utils import create_experiment_dir, get_repo_root_path\n",
    "from pylopt.regularisers.fields_of_experts.ImageFilter import ImageFilter\n",
    "from pylopt.regularisers.fields_of_experts.potential import StudentT\n",
    "from pylopt.regularisers.fields_of_experts.FieldsOfExperts import FieldsOfExperts\n",
    "\n",
    "repo_root_path = get_repo_root_path(Path().resolve())\n",
    "image_filter = ImageFilter.from_file(os.path.join(repo_root_path, \n",
    "                                                  'data', 'model_data',\n",
    "                                                  PRETRAINED_FILTER_MODELS['chen-ranftl-pock_2014_scaled_7x7']))\n",
    "\n",
    "image_filter.freeze()           # freeze image_filter, i.e. parameters are not trainable\n",
    "potential = StudentT(num_marginals=48, init_options={'mode': 'uniform', 'multiplier': 0.0001}, trainable=True)\n",
    "regulariser = FieldsOfExperts(potential, image_filter)"
   ]
  },
  {
   "cell_type": "markdown",
   "id": "e2e3d9f7-d438-4229-b746-d11580e3d813",
   "metadata": {},
   "source": [
    "### Setup lower-level solution method"
   ]
  },
  {
   "cell_type": "code",
   "execution_count": 10,
   "id": "f0325538-202a-4a28-95bd-20cdf2fbb6f4",
   "metadata": {},
   "outputs": [],
   "source": [
    "method_lower = 'nag'\n",
    "options_lower = {'max_num_iterations': 300, 'rel_tol': 1e-5, 'lip_const': 1e5, 'batch_optimisation': False}"
   ]
  },
  {
   "cell_type": "markdown",
   "id": "e8e567ee-578b-493a-a376-fcaf47aa5c64",
   "metadata": {},
   "source": [
    "### Setup BilevelOptimisation class"
   ]
  },
  {
   "cell_type": "code",
   "execution_count": 11,
   "id": "0751c0ea-abc2-44fc-8c6f-9fb4d6b65a12",
   "metadata": {},
   "outputs": [],
   "source": [
    "from pylopt.bilevel_problem import BilevelOptimisation\n",
    "\n",
    "path_to_experiment_dir = os.path.join(os.getcwd(), 'experiment')\n",
    "if not os.path.exists(path_to_experiment_dir):\n",
    "    os.makedirs(path_to_experiment_dir)\n",
    "\n",
    "bilevel_optimisation = BilevelOptimisation(method_lower, \n",
    "                                           options_lower, \n",
    "                                           operator=torch.nn.Identity(),\n",
    "                                           noise_level=0.1,\n",
    "                                           differentiation_method='hessian_free',\n",
    "                                           path_to_experiments_dir=path_to_experiment_dir)"
   ]
  },
  {
   "cell_type": "code",
   "execution_count": 12,
   "id": "821867e8-d0fd-42fc-bd4e-7f75a3324a98",
   "metadata": {},
   "outputs": [],
   "source": [
    "lam = 10"
   ]
  },
  {
   "cell_type": "markdown",
   "id": "68ece264-a8e5-4211-a7d1-40ff39f20d53",
   "metadata": {},
   "source": [
    "### Initial test loss and psnr"
   ]
  },
  {
   "cell_type": "code",
   "execution_count": 13,
   "id": "44d8638d-1483-47de-b6e1-38785ce7a3e4",
   "metadata": {},
   "outputs": [
    {
     "name": "stdout",
     "output_type": "stream",
     "text": [
      "psnr [dB]: 24.16104\n"
     ]
    }
   ],
   "source": [
    "from pylopt.energy import Energy, MeasurementModel\n",
    "from pylopt.lower_problem import solve_lower\n",
    "from pylopt.utils.evaluation_utils import compute_psnr\n",
    "\n",
    "test_batch_clean = list(test_loader)[0]\n",
    "test_batch_clean = test_batch_clean.to(device=device, dtype=dtype)\n",
    "\n",
    "measurement_model = MeasurementModel(test_batch_clean, torch.nn.Identity(), noise_level=0.1)\n",
    "energy = Energy(measurement_model, regulariser, lam)\n",
    "energy.to(device=device, dtype=dtype)\n",
    "test_batch_noisy = measurement_model.get_noisy_observation()\n",
    "\n",
    "lower_prob_result = solve_lower(energy=energy, method=method_lower, options=options_lower)\n",
    "psnr = torch.mean(compute_psnr(energy.measurement_model.get_clean_data(), lower_prob_result.solution))\n",
    "psnr = psnr.detach().cpu().item()\n",
    "\n",
    "print('psnr [dB]: {:.5f}'.format(psnr))"
   ]
  },
  {
   "cell_type": "markdown",
   "id": "09592bd1-07a5-4f12-938e-3e13b89545b8",
   "metadata": {},
   "source": [
    "### Callbacks and schedulers"
   ]
  },
  {
   "cell_type": "code",
   "execution_count": 14,
   "id": "9449f88f-635f-4db4-81a6-808e385b326e",
   "metadata": {},
   "outputs": [],
   "source": [
    "def l2_loss_func(x: torch.Tensor, y: torch.Tensor) -> torch.Tensor:\n",
    "    return 0.5 * torch.sum((x - y) ** 2)"
   ]
  },
  {
   "cell_type": "code",
   "execution_count": 16,
   "id": "6c77c45c-07c8-4237-a601-7bff2461a258",
   "metadata": {
    "scrolled": true
   },
   "outputs": [],
   "source": [
    "from torch.utils.tensorboard import SummaryWriter\n",
    "from pylopt.bilevel_problem.callbacks import SaveModel, PlotFiltersAndPotentials, TrainingMonitor\n",
    "from pylopt.bilevel_problem.scheduler import CosineAnnealingLRScheduler\n",
    "\n",
    "tb_writer = SummaryWriter(log_dir=os.path.join(path_to_experiment_dir, 'tensorboard'))\n",
    "callbacks = [PlotFiltersAndPotentials(test_image_dataset, \n",
    "                                      path_to_data_dir=path_to_experiment_dir,\n",
    "                                      plotting_freq=2, \n",
    "                                      tb_writer=tb_writer),\n",
    "             SaveModel(path_to_data_dir=path_to_experiment_dir, \n",
    "                       save_freq=2),\n",
    "             TrainingMonitor(test_image_dataset, \n",
    "                             method_lower, \n",
    "                             options_lower, \n",
    "                             l2_loss_func,\n",
    "                             path_to_experiment_dir, \n",
    "                             operator=torch.nn.Identity(),\n",
    "                             noise_level=0.1,\n",
    "                             lam=lam,\n",
    "                             evaluation_freq=1, \n",
    "                             tb_writer=tb_writer)\n",
    "            ]\n",
    "\n",
    "schedulers = [CosineAnnealingLRScheduler(step_begin=50, \n",
    "                                         restart_cycle=None,\n",
    "                                         step_end=80,\n",
    "                                         lr_min=1e-5)]"
   ]
  },
  {
   "cell_type": "markdown",
   "id": "514f84b3-9d95-4896-ae65-6ee29e1342b0",
   "metadata": {},
   "source": [
    "### Setup logger"
   ]
  },
  {
   "cell_type": "code",
   "execution_count": 24,
   "id": "cdb965db-8007-494c-b0af-6b0d684b4a2a",
   "metadata": {},
   "outputs": [],
   "source": [
    "import logging\n",
    "import sys\n",
    "\n",
    "for handler in logging.root.handlers[:]:\n",
    "    logging.root.removeHandler(handler)\n",
    "\n",
    "logging.basicConfig(\n",
    "    stream=sys.stdout,\n",
    "    level=logging.INFO,\n",
    "    format=\"%(asctime)s [%(levelname)s] %(name)s: %(message)s\"\n",
    ")\n",
    "\n",
    "\n",
    "logger = logging.getLogger(\"pylopt\")\n",
    "logger.setLevel(logging.INFO)\n",
    "logger.propagate = True"
   ]
  },
  {
   "cell_type": "markdown",
   "id": "de80bacb-faea-4a00-9bd0-5ebe9cbc7c3c",
   "metadata": {},
   "source": [
    "### Start training"
   ]
  },
  {
   "cell_type": "code",
   "execution_count": null,
   "id": "6280fb32-36db-4ff5-bfac-40b0e2021cf7",
   "metadata": {},
   "outputs": [
    {
     "name": "stdout",
     "output_type": "stream",
     "text": [
      "2025-10-02 13:45:30,690 [INFO] root: [TrainingMonitor] compute initial test loss and initial psnr\n",
      "2025-10-02 13:45:30,895 [INFO] root: [TrainingMonitor]   > average psnr: 20.51734\n",
      "2025-10-02 13:45:30,895 [INFO] root: [TrainingMonitor]   > test loss: 1370.61719\n",
      "2025-10-02 13:45:30,895 [INFO] root: [TrainingMonitor]   > evaluation took [ms]: 183.80284\n",
      "2025-10-02 13:45:32,458 [INFO] root: [TrainingMonitor] log statistics and hyperparameters\n",
      "2025-10-02 13:45:32,458 [INFO] root: [TrainingMonitor]   > lr for group potentials: 0.100\n",
      "2025-10-02 13:45:32,642 [INFO] root: [TrainingMonitor]   > average psnr: 20.60477\n",
      "2025-10-02 13:45:32,642 [INFO] root: [TrainingMonitor]   > test loss: 1343.30200\n",
      "2025-10-02 13:45:32,642 [INFO] root: [TrainingMonitor]   > evaluation took [ms]: 177.28717\n",
      "2025-10-02 13:45:33,022 [INFO] root: [TRAIN] iteration [1 / 100]: loss = 582.50275\n",
      "2025-10-02 13:45:36,582 [INFO] root: [TrainingMonitor] log statistics and hyperparameters\n",
      "2025-10-02 13:45:36,582 [INFO] root: [TrainingMonitor]   > lr for group potentials: 0.100\n",
      "2025-10-02 13:45:36,807 [INFO] root: [TrainingMonitor]   > average psnr: 20.64851\n",
      "2025-10-02 13:45:36,808 [INFO] root: [TrainingMonitor]   > test loss: 1329.84509\n",
      "2025-10-02 13:45:36,808 [INFO] root: [TrainingMonitor]   > evaluation took [ms]: 222.02916\n",
      "2025-10-02 13:45:37,188 [INFO] root: [TRAIN] iteration [2 / 100]: loss = 575.18433\n",
      "2025-10-02 13:45:38,516 [INFO] root: [TrainingMonitor] log statistics and hyperparameters\n",
      "2025-10-02 13:45:38,516 [INFO] root: [TrainingMonitor]   > lr for group potentials: 0.100\n",
      "2025-10-02 13:45:38,716 [INFO] root: [TrainingMonitor]   > average psnr: 20.75704\n",
      "2025-10-02 13:45:38,716 [INFO] root: [TrainingMonitor]   > test loss: 1297.02490\n",
      "2025-10-02 13:45:38,717 [INFO] root: [TrainingMonitor]   > evaluation took [ms]: 193.71417\n",
      "2025-10-02 13:45:39,095 [INFO] root: [TRAIN] iteration [3 / 100]: loss = 572.08624\n",
      "2025-10-02 13:45:42,823 [INFO] root: [TrainingMonitor] log statistics and hyperparameters\n",
      "2025-10-02 13:45:42,827 [INFO] root: [TrainingMonitor]   > lr for group potentials: 0.100\n",
      "2025-10-02 13:45:43,125 [INFO] root: [TrainingMonitor]   > average psnr: 20.81851\n",
      "2025-10-02 13:45:43,125 [INFO] root: [TrainingMonitor]   > test loss: 1278.80664\n",
      "2025-10-02 13:45:43,126 [INFO] root: [TrainingMonitor]   > evaluation took [ms]: 293.98016\n",
      "2025-10-02 13:45:43,506 [INFO] root: [TRAIN] iteration [4 / 100]: loss = 559.47461\n",
      "2025-10-02 13:45:45,013 [INFO] root: [TrainingMonitor] log statistics and hyperparameters\n",
      "2025-10-02 13:45:45,014 [INFO] root: [TrainingMonitor]   > lr for group potentials: 0.100\n",
      "2025-10-02 13:45:45,290 [INFO] root: [TrainingMonitor]   > average psnr: 20.92410\n",
      "2025-10-02 13:45:45,290 [INFO] root: [TrainingMonitor]   > test loss: 1248.10120\n",
      "2025-10-02 13:45:45,290 [INFO] root: [TrainingMonitor]   > evaluation took [ms]: 270.05029\n",
      "2025-10-02 13:45:45,675 [INFO] root: [TRAIN] iteration [5 / 100]: loss = 549.22186\n",
      "2025-10-02 13:45:49,711 [INFO] root: [TrainingMonitor] log statistics and hyperparameters\n",
      "2025-10-02 13:45:49,720 [INFO] root: [TrainingMonitor]   > lr for group potentials: 0.100\n",
      "2025-10-02 13:45:49,976 [INFO] root: [TrainingMonitor]   > average psnr: 21.07182\n",
      "2025-10-02 13:45:49,976 [INFO] root: [TrainingMonitor]   > test loss: 1206.33618\n",
      "2025-10-02 13:45:49,976 [INFO] root: [TrainingMonitor]   > evaluation took [ms]: 251.87135\n",
      "2025-10-02 13:45:50,365 [INFO] root: [TRAIN] iteration [6 / 100]: loss = 532.71167\n",
      "2025-10-02 13:45:52,385 [INFO] root: [TrainingMonitor] log statistics and hyperparameters\n",
      "2025-10-02 13:45:52,386 [INFO] root: [TrainingMonitor]   > lr for group potentials: 0.100\n",
      "2025-10-02 13:45:52,630 [INFO] root: [TrainingMonitor]   > average psnr: 21.16994\n",
      "2025-10-02 13:45:52,630 [INFO] root: [TrainingMonitor]   > test loss: 1179.39978\n",
      "2025-10-02 13:45:52,630 [INFO] root: [TrainingMonitor]   > evaluation took [ms]: 237.11325\n",
      "2025-10-02 13:45:53,011 [INFO] root: [TRAIN] iteration [7 / 100]: loss = 518.60596\n",
      "2025-10-02 13:45:58,123 [INFO] root: [TrainingMonitor] log statistics and hyperparameters\n",
      "2025-10-02 13:45:58,123 [INFO] root: [TrainingMonitor]   > lr for group potentials: 0.100\n",
      "2025-10-02 13:45:58,593 [INFO] root: [TrainingMonitor]   > average psnr: 21.33029\n",
      "2025-10-02 13:45:58,593 [INFO] root: [TrainingMonitor]   > test loss: 1136.63696\n",
      "2025-10-02 13:45:58,594 [INFO] root: [TrainingMonitor]   > evaluation took [ms]: 465.73462\n",
      "2025-10-02 13:45:58,985 [INFO] root: [TRAIN] iteration [8 / 100]: loss = 506.40430\n",
      "2025-10-02 13:46:01,105 [INFO] root: [TrainingMonitor] log statistics and hyperparameters\n",
      "2025-10-02 13:46:01,106 [INFO] root: [TrainingMonitor]   > lr for group potentials: 0.100\n",
      "2025-10-02 13:46:01,464 [INFO] root: [TrainingMonitor]   > average psnr: 21.51150\n",
      "2025-10-02 13:46:01,465 [INFO] root: [TrainingMonitor]   > test loss: 1090.19812\n",
      "2025-10-02 13:46:01,465 [INFO] root: [TrainingMonitor]   > evaluation took [ms]: 353.13766\n",
      "2025-10-02 13:46:01,853 [INFO] root: [TRAIN] iteration [9 / 100]: loss = 488.40570\n",
      "2025-10-02 13:46:06,333 [INFO] root: [TrainingMonitor] log statistics and hyperparameters\n",
      "2025-10-02 13:46:06,334 [INFO] root: [TrainingMonitor]   > lr for group potentials: 0.100\n",
      "2025-10-02 13:46:06,714 [INFO] root: [TrainingMonitor]   > average psnr: 21.68812\n",
      "2025-10-02 13:46:06,715 [INFO] root: [TrainingMonitor]   > test loss: 1046.73975\n",
      "2025-10-02 13:46:06,715 [INFO] root: [TrainingMonitor]   > evaluation took [ms]: 377.04736\n",
      "2025-10-02 13:46:07,096 [INFO] root: [TRAIN] iteration [10 / 100]: loss = 476.42767\n",
      "2025-10-02 13:46:09,760 [INFO] root: [TrainingMonitor] log statistics and hyperparameters\n",
      "2025-10-02 13:46:09,760 [INFO] root: [TrainingMonitor]   > lr for group potentials: 0.100\n",
      "2025-10-02 13:46:10,127 [INFO] root: [TrainingMonitor]   > average psnr: 21.96425\n",
      "2025-10-02 13:46:10,127 [INFO] root: [TrainingMonitor]   > test loss: 982.25964\n",
      "2025-10-02 13:46:10,127 [INFO] root: [TrainingMonitor]   > evaluation took [ms]: 353.63644\n",
      "2025-10-02 13:46:10,527 [INFO] root: [TRAIN] iteration [11 / 100]: loss = 449.43973\n",
      "2025-10-02 13:46:15,715 [INFO] root: [TrainingMonitor] log statistics and hyperparameters\n",
      "2025-10-02 13:46:15,719 [INFO] root: [TrainingMonitor]   > lr for group potentials: 0.100\n",
      "2025-10-02 13:46:16,277 [INFO] root: [TrainingMonitor]   > average psnr: 22.30324\n",
      "2025-10-02 13:46:16,277 [INFO] root: [TrainingMonitor]   > test loss: 908.54736\n",
      "2025-10-02 13:46:16,277 [INFO] root: [TrainingMonitor]   > evaluation took [ms]: 553.59674\n",
      "2025-10-02 13:46:16,663 [INFO] root: [TRAIN] iteration [12 / 100]: loss = 436.50696\n",
      "2025-10-02 13:46:20,093 [INFO] root: [TrainingMonitor] log statistics and hyperparameters\n",
      "2025-10-02 13:46:20,093 [INFO] root: [TrainingMonitor]   > lr for group potentials: 0.100\n",
      "2025-10-02 13:46:20,559 [INFO] root: [TrainingMonitor]   > average psnr: 22.64405\n",
      "2025-10-02 13:46:20,560 [INFO] root: [TrainingMonitor]   > test loss: 839.93579\n",
      "2025-10-02 13:46:20,560 [INFO] root: [TrainingMonitor]   > evaluation took [ms]: 460.33026\n",
      "2025-10-02 13:46:20,941 [INFO] root: [TRAIN] iteration [13 / 100]: loss = 392.32761\n",
      "2025-10-02 13:46:26,881 [INFO] root: [TrainingMonitor] log statistics and hyperparameters\n",
      "2025-10-02 13:46:26,881 [INFO] root: [TrainingMonitor]   > lr for group potentials: 0.100\n",
      "2025-10-02 13:46:27,640 [INFO] root: [TrainingMonitor]   > average psnr: 23.06407\n",
      "2025-10-02 13:46:27,641 [INFO] root: [TrainingMonitor]   > test loss: 762.53326\n",
      "2025-10-02 13:46:27,641 [INFO] root: [TrainingMonitor]   > evaluation took [ms]: 755.35944\n",
      "2025-10-02 13:46:28,031 [INFO] root: [TRAIN] iteration [14 / 100]: loss = 366.05713\n",
      "2025-10-02 13:46:33,354 [INFO] root: [TrainingMonitor] log statistics and hyperparameters\n",
      "2025-10-02 13:46:33,354 [INFO] root: [TrainingMonitor]   > lr for group potentials: 0.100\n",
      "2025-10-02 13:46:34,106 [INFO] root: [TrainingMonitor]   > average psnr: 23.70878\n",
      "2025-10-02 13:46:34,106 [INFO] root: [TrainingMonitor]   > test loss: 657.31873\n",
      "2025-10-02 13:46:34,107 [INFO] root: [TrainingMonitor]   > evaluation took [ms]: 746.59735\n",
      "2025-10-02 13:46:34,484 [INFO] root: [TRAIN] iteration [15 / 100]: loss = 321.06845\n",
      "2025-10-02 13:46:42,812 [INFO] root: [TrainingMonitor] log statistics and hyperparameters\n",
      "2025-10-02 13:46:42,817 [INFO] root: [TrainingMonitor]   > lr for group potentials: 0.100\n",
      "2025-10-02 13:46:43,583 [INFO] root: [TrainingMonitor]   > average psnr: 24.71070\n",
      "2025-10-02 13:46:43,584 [INFO] root: [TrainingMonitor]   > test loss: 521.89447\n",
      "2025-10-02 13:46:43,584 [INFO] root: [TrainingMonitor]   > evaluation took [ms]: 762.94965\n",
      "2025-10-02 13:46:43,968 [INFO] root: [TRAIN] iteration [16 / 100]: loss = 287.68726\n",
      "2025-10-02 13:46:49,630 [INFO] root: [TrainingMonitor] log statistics and hyperparameters\n",
      "2025-10-02 13:46:49,631 [INFO] root: [TrainingMonitor]   > lr for group potentials: 0.099\n",
      "2025-10-02 13:46:50,392 [INFO] root: [TrainingMonitor]   > average psnr: 26.30890\n",
      "2025-10-02 13:46:50,393 [INFO] root: [TrainingMonitor]   > test loss: 362.24359\n",
      "2025-10-02 13:46:50,393 [INFO] root: [TrainingMonitor]   > evaluation took [ms]: 756.09106\n",
      "2025-10-02 13:46:50,777 [INFO] root: [TRAIN] iteration [17 / 100]: loss = 235.52151\n",
      "2025-10-02 13:46:58,547 [INFO] root: [TrainingMonitor] log statistics and hyperparameters\n",
      "2025-10-02 13:46:58,548 [INFO] root: [TrainingMonitor]   > lr for group potentials: 0.098\n",
      "2025-10-02 13:46:59,306 [INFO] root: [TrainingMonitor]   > average psnr: 27.80058\n",
      "2025-10-02 13:46:59,306 [INFO] root: [TrainingMonitor]   > test loss: 256.43726\n",
      "2025-10-02 13:46:59,306 [INFO] root: [TrainingMonitor]   > evaluation took [ms]: 754.41663\n",
      "2025-10-02 13:46:59,682 [INFO] root: [TRAIN] iteration [18 / 100]: loss = 187.90622\n",
      "2025-10-02 13:47:05,345 [INFO] root: [TrainingMonitor] log statistics and hyperparameters\n",
      "2025-10-02 13:47:05,346 [INFO] root: [TrainingMonitor]   > lr for group potentials: 0.096\n",
      "2025-10-02 13:47:06,107 [INFO] root: [TrainingMonitor]   > average psnr: 28.74688\n",
      "2025-10-02 13:47:06,107 [INFO] root: [TrainingMonitor]   > test loss: 206.09998\n",
      "2025-10-02 13:47:06,107 [INFO] root: [TrainingMonitor]   > evaluation took [ms]: 754.99829\n",
      "2025-10-02 13:47:06,478 [INFO] root: [TRAIN] iteration [19 / 100]: loss = 160.71118\n",
      "2025-10-02 13:47:14,221 [INFO] root: [TrainingMonitor] log statistics and hyperparameters\n",
      "2025-10-02 13:47:14,225 [INFO] root: [TrainingMonitor]   > lr for group potentials: 0.093\n",
      "2025-10-02 13:47:14,982 [INFO] root: [TrainingMonitor]   > average psnr: 29.07703\n",
      "2025-10-02 13:47:14,982 [INFO] root: [TrainingMonitor]   > test loss: 190.96625\n",
      "2025-10-02 13:47:14,982 [INFO] root: [TrainingMonitor]   > evaluation took [ms]: 752.81586\n",
      "2025-10-02 13:47:15,353 [INFO] root: [TRAIN] iteration [20 / 100]: loss = 123.33371\n",
      "2025-10-02 13:47:20,931 [INFO] root: [TrainingMonitor] log statistics and hyperparameters\n",
      "2025-10-02 13:47:20,931 [INFO] root: [TrainingMonitor]   > lr for group potentials: 0.090\n",
      "2025-10-02 13:47:21,704 [INFO] root: [TrainingMonitor]   > average psnr: 29.16376\n",
      "2025-10-02 13:47:21,704 [INFO] root: [TrainingMonitor]   > test loss: 187.20572\n",
      "2025-10-02 13:47:21,704 [INFO] root: [TrainingMonitor]   > evaluation took [ms]: 765.95947\n",
      "2025-10-02 13:47:22,068 [INFO] root: [TRAIN] iteration [21 / 100]: loss = 127.16672\n"
     ]
    }
   ],
   "source": [
    "max_num_iterations = 100\n",
    "method_upper = 'adam'\n",
    "options_upper = {'max_num_iterations': max_num_iterations, 'lr': [1e-1], 'alternating': True}\n",
    "\n",
    "bilevel_optimisation.learn(regulariser, \n",
    "                           lam, \n",
    "                           l2_loss_func, \n",
    "                           train_image_dataset,\n",
    "                           optimisation_method_upper=method_upper, \n",
    "                           optimisation_options_upper=options_upper,\n",
    "                           dtype=dtype, device=device, \n",
    "                           callbacks=callbacks, \n",
    "                           schedulers=schedulers)"
   ]
  },
  {
   "cell_type": "markdown",
   "id": "563f8c11-834e-49ee-bf4b-5bcd400d4c21",
   "metadata": {},
   "source": [
    "### Store trained model and visualisations of training results"
   ]
  },
  {
   "cell_type": "code",
   "execution_count": 13,
   "id": "13a855db-652f-441e-a404-3e20ad5ab9cb",
   "metadata": {},
   "outputs": [],
   "source": [
    "save_foe_model(regulariser, os.path.join(path_to_eval_dir, 'models'), model_dir_name='final')\n",
    "\n",
    "visualise_training_stats(train_loss_list, test_loss_list, psnr_list, evaluation_freq, path_to_eval_dir)\n",
    "visualise_filter_stats(filters_list, path_to_eval_dir)"
   ]
  }
 ],
 "metadata": {
  "kernelspec": {
   "display_name": "Python 3 (ipykernel)",
   "language": "python",
   "name": "python3"
  },
  "language_info": {
   "codemirror_mode": {
    "name": "ipython",
    "version": 3
   },
   "file_extension": ".py",
   "mimetype": "text/x-python",
   "name": "python",
   "nbconvert_exporter": "python",
   "pygments_lexer": "ipython3",
   "version": "3.11.13"
  }
 },
 "nbformat": 4,
 "nbformat_minor": 5
}
