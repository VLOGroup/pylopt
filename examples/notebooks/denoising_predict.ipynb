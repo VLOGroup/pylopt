{
 "cells": [
  {
   "cell_type": "code",
   "execution_count": null,
   "id": "a1d2857c-fec9-4a38-a3e9-f026c097c447",
   "metadata": {},
   "outputs": [],
   "source": [
    "!pip uninstall pylopt"
   ]
  },
  {
   "cell_type": "code",
   "execution_count": null,
   "id": "19c79c9a-41e1-4eba-abfa-64f120a00563",
   "metadata": {},
   "outputs": [],
   "source": [
    "!pip install ../../artefacts/pylopt-1.0.0-py3-none-any.whl"
   ]
  },
  {
   "cell_type": "code",
   "execution_count": null,
   "id": "53bcd864-e48c-4209-a554-a1ff34799809",
   "metadata": {},
   "outputs": [],
   "source": [
    "import os\n",
    "import time\n",
    "import torch\n",
    "from torch.utils.data import DataLoader\n",
    "from matplotlib import pyplot as plt\n",
    "from pathlib import Path"
   ]
  },
  {
   "cell_type": "code",
   "execution_count": null,
   "id": "99f6845b",
   "metadata": {},
   "outputs": [],
   "source": [
    "torch.manual_seed(123)"
   ]
  },
  {
   "cell_type": "markdown",
   "id": "d2b6e241-08d0-4fef-a6e5-85a47f97d7fa",
   "metadata": {},
   "source": [
    "### Setup regulariser (load filter and filter weights from file)"
   ]
  },
  {
   "cell_type": "code",
   "execution_count": null,
   "id": "c1c71e42-909b-4151-b0dc-d311cfd98149",
   "metadata": {},
   "outputs": [],
   "source": [
    "from pylopt.utils.file_system_utils import get_repo_root_path\n",
    "\n",
    "# set path of directory containing image data and model data \n",
    "# NOTE\n",
    "#   > the function get_repo_root_path() determines the root path of the \n",
    "#       project's git repository containing the directories data/images, and\n",
    "#       data/model_data.\n",
    "root_path = get_repo_root_path(Path().resolve())"
   ]
  },
  {
   "cell_type": "markdown",
   "id": "a3825103-5b92-4160-a96a-2698a8eb4855",
   "metadata": {},
   "source": [
    "### Setup image dataset"
   ]
  },
  {
   "cell_type": "code",
   "execution_count": null,
   "id": "e0be9cce-143d-4670-9416-6ffa9c46228a",
   "metadata": {},
   "outputs": [],
   "source": [
    "dtype = torch.float32\n",
    "device = torch.device('cuda' if torch.cuda.is_available() else 'cpu')"
   ]
  },
  {
   "cell_type": "code",
   "execution_count": null,
   "id": "93cbc92a-922b-42b2-851c-fb24aa2e55ce",
   "metadata": {},
   "outputs": [],
   "source": [
    "from pylopt.dataset.ImageDataset import TestImageDataset\n",
    "from pylopt.dataset.dataset_utils import collate_function\n",
    "\n",
    "test_data_root_dir = os.path.join(root_path, 'data', 'images', 'test_images')\n",
    "test_image_dataset = TestImageDataset(root_path=test_data_root_dir, dtype=dtype)\n",
    "test_loader = DataLoader(test_image_dataset, batch_size=len(test_image_dataset), shuffle=False,\n",
    "                         collate_fn=lambda x: collate_function(x, crop_size=-1))"
   ]
  },
  {
   "cell_type": "markdown",
   "id": "0c54754e-f3e8-49c9-b350-24f2d7a64ad8",
   "metadata": {},
   "source": [
    "### Setup regulariser"
   ]
  },
  {
   "cell_type": "code",
   "execution_count": null,
   "id": "20ecf465-8d74-4130-b9d7-4e775be8ba6f",
   "metadata": {},
   "outputs": [],
   "source": [
    "from pylopt.regularisers import FieldsOfExperts, ImageFilter, StudentT\n",
    "\n",
    "image_filter = ImageFilter.from_file(os.path.join(root_path, 'data', 'model_data', 'filters_7x7_chen-ranftl-pock_2014_scaled.pt'))\n",
    "potential = StudentT.from_file(os.path.join(root_path, 'data', 'model_data', 'student_t_potential_pylopt_2025_I.pt'))\n",
    "regulariser = FieldsOfExperts(potential, image_filter)"
   ]
  },
  {
   "cell_type": "markdown",
   "id": "7bc632e9-47e8-4b40-9510-12bddd4e5ccc",
   "metadata": {},
   "source": [
    "### Setup measurement model and inner energy"
   ]
  },
  {
   "cell_type": "code",
   "execution_count": null,
   "id": "b6ac3cf3-e4a6-4e48-8ecb-7a951947951b",
   "metadata": {},
   "outputs": [],
   "source": [
    "from pylopt.energy import Energy, MeasurementModel\n",
    "\n",
    "u_clean = list(test_loader)[0]\n",
    "u_clean = u_clean.to(device=device, dtype=dtype)\n",
    "\n",
    "noise_level = 0.1\n",
    "lam = 10\n",
    "\n",
    "measurement_model = MeasurementModel(u_clean, operator=torch.nn.Identity(), noise_level=noise_level)\n",
    "energy = Energy(measurement_model, regulariser, lam=lam).to(device=device, dtype=dtype)"
   ]
  },
  {
   "cell_type": "markdown",
   "id": "49fcb83f-cc7f-42ef-9ab2-7eac885df825",
   "metadata": {},
   "source": [
    "### Denoise"
   ]
  },
  {
   "cell_type": "code",
   "execution_count": null,
   "id": "de1e6841-bd3a-4d3b-b2d9-e048987d97a3",
   "metadata": {},
   "outputs": [],
   "source": [
    "from pylopt.utils.Timer import Timer\n",
    "from pylopt.lower_problem.solve_lower import solve_lower\n",
    "\n",
    "method = 'nag'\n",
    "options = {'max_num_iterations': 1000, \n",
    "            'rel_tol': 1e-5, \n",
    "            'batch_optimisation': False, \n",
    "            'lip_const': 1e1,\n",
    "            'resample_measurement_noise': False}\n",
    "\n",
    "with Timer(device=device) as t:\n",
    "    lower_prob_result = solve_lower(energy=energy, method=method, options=options)\n",
    "\n",
    "print('denoising stats:')\n",
    "print(' > elapsed time [ms] = {:.5f}'.format(t.time_delta()))\n",
    "print(' > number of iterations = {:d}'.format(lower_prob_result.num_iterations))\n",
    "print(' > cause of termination = {:s}'.format(lower_prob_result.message))"
   ]
  },
  {
   "cell_type": "code",
   "execution_count": null,
   "id": "b7111585-9c5f-4581-a1ce-677b19c94d2f",
   "metadata": {},
   "outputs": [],
   "source": [
    "from pylopt.utils.evaluation_utils import compute_psnr\n",
    "\n",
    "u_clean_splits = torch.split(u_clean, split_size_or_sections=1, dim=0)\n",
    "u_noisy_splits = torch.split(energy.measurement_model.get_noisy_observation(), split_size_or_sections=1, dim=0)\n",
    "u_denoised_splits = torch.split(lower_prob_result.solution, split_size_or_sections=1, dim=0)\n",
    "for idx, (item_clean, item_noisy, item_denoised) in (\n",
    "        enumerate(zip(u_clean_splits, u_noisy_splits, u_denoised_splits))):\n",
    "    psnr = compute_psnr(item_clean, item_denoised)\n",
    "    print(' > psnr [dB] = {:.5f}'.format(psnr.detach().cpu().item()))\n",
    "\n",
    "    fig = plt.figure()\n",
    "    ax_clean = fig.add_subplot(1, 3, 1)\n",
    "    ax_clean.imshow(item_clean.squeeze().detach().cpu().numpy())\n",
    "    ax_clean.set_title('clean')\n",
    "    ax_clean.xaxis.set_visible(False)\n",
    "    ax_clean.yaxis.set_visible(False)\n",
    "\n",
    "    ax_noisy = fig.add_subplot(1, 3, 2)\n",
    "    ax_noisy.imshow(item_noisy.squeeze().detach().cpu().numpy())\n",
    "    ax_noisy.set_title('noisy')\n",
    "    ax_noisy.xaxis.set_visible(False)\n",
    "    ax_noisy.yaxis.set_visible(False)\n",
    "\n",
    "    ax_denoised = fig.add_subplot(1, 3, 3)\n",
    "    ax_denoised.imshow(item_denoised.squeeze().detach().cpu().numpy())\n",
    "    ax_denoised.set_title('denoised')\n",
    "    ax_denoised.xaxis.set_visible(False)\n",
    "    ax_denoised.yaxis.set_visible(False)\n",
    "\n",
    "    plt.savefig('denoised_{:d}.png'.format(idx))\n",
    "    \n",
    "    plt.show()\n",
    "\n"
   ]
  }
 ],
 "metadata": {
  "kernelspec": {
   "display_name": "Python 3 (ipykernel)",
   "language": "python",
   "name": "python3"
  },
  "language_info": {
   "codemirror_mode": {
    "name": "ipython",
    "version": 3
   },
   "file_extension": ".py",
   "mimetype": "text/x-python",
   "name": "python",
   "nbconvert_exporter": "python",
   "pygments_lexer": "ipython3",
   "version": "3.11.13"
  }
 },
 "nbformat": 4,
 "nbformat_minor": 5
}
