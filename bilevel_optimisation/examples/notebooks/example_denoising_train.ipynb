{
 "cells": [
  {
   "cell_type": "markdown",
   "id": "a2ee1610-f05b-4be9-b0d0-ff1d36667a50",
   "metadata": {},
   "source": [
    "### Usage within repository"
   ]
  },
  {
   "cell_type": "code",
   "execution_count": 4,
   "id": "b0d2007e-1fa9-4cad-8a1b-89deb37b87ea",
   "metadata": {},
   "outputs": [],
   "source": [
    "import sys\n",
    "sys.path.append('../../../')"
   ]
  },
  {
   "cell_type": "markdown",
   "id": "49218eae-834d-4e36-a278-0489781b8d0f",
   "metadata": {},
   "source": [
    "### Mount Google drive when using Google Colab"
   ]
  },
  {
   "cell_type": "code",
   "execution_count": null,
   "id": "ecaa8a57-0ae4-434e-b06a-7be9cf715102",
   "metadata": {},
   "outputs": [],
   "source": [
    "from google.colab import drive\n",
    "drive.mount('/content/drive')"
   ]
  },
  {
   "cell_type": "markdown",
   "id": "9cd096d6-9e3b-4df8-a2dd-ce7992508983",
   "metadata": {},
   "source": [
    "### Usage with Python wheel (e.g. when using Google Colab)"
   ]
  },
  {
   "cell_type": "code",
   "execution_count": 2,
   "id": "6573a749-3829-4151-a767-d0be0ef93e53",
   "metadata": {
    "scrolled": true
   },
   "outputs": [
    {
     "name": "stdout",
     "output_type": "stream",
     "text": [
      "Processing /home/florianthaler/Documents/research/bilevel_optimisation/artefacts/bilevel_optimisation-1.0.0-py3-none-any.whl\n",
      "Requirement already satisfied: torch>=2.6.0 in /home/florianthaler/Documents/research/bilevel_optimisation/.venv_py-3-11/lib/python3.11/site-packages (from bilevel-optimisation==1.0.0) (2.6.0)\n",
      "Requirement already satisfied: numpy>=2.2.4 in /home/florianthaler/Documents/research/bilevel_optimisation/.venv_py-3-11/lib/python3.11/site-packages (from bilevel-optimisation==1.0.0) (2.2.6)\n",
      "Requirement already satisfied: confuse>=2.0.1 in /home/florianthaler/Documents/research/bilevel_optimisation/.venv_py-3-11/lib/python3.11/site-packages (from bilevel-optimisation==1.0.0) (2.0.1)\n",
      "Requirement already satisfied: scipy>=1.15.2 in /home/florianthaler/Documents/research/bilevel_optimisation/.venv_py-3-11/lib/python3.11/site-packages (from bilevel-optimisation==1.0.0) (1.15.2)\n",
      "Requirement already satisfied: opencv-python-headless>=4.11.0.86 in /home/florianthaler/Documents/research/bilevel_optimisation/.venv_py-3-11/lib/python3.11/site-packages (from bilevel-optimisation==1.0.0) (4.11.0.86)\n",
      "Requirement already satisfied: matplotlib>=3.10.1 in /home/florianthaler/Documents/research/bilevel_optimisation/.venv_py-3-11/lib/python3.11/site-packages (from bilevel-optimisation==1.0.0) (3.10.1)\n",
      "Requirement already satisfied: PyQt5>=5.15.11 in /home/florianthaler/Documents/research/bilevel_optimisation/.venv_py-3-11/lib/python3.11/site-packages (from bilevel-optimisation==1.0.0) (5.15.11)\n",
      "Requirement already satisfied: torchvision>=0.21.0 in /home/florianthaler/Documents/research/bilevel_optimisation/.venv_py-3-11/lib/python3.11/site-packages (from bilevel-optimisation==1.0.0) (0.21.0)\n",
      "Requirement already satisfied: pillow>=11.1.0 in /home/florianthaler/Documents/research/bilevel_optimisation/.venv_py-3-11/lib/python3.11/site-packages (from bilevel-optimisation==1.0.0) (11.1.0)\n",
      "Requirement already satisfied: pyyaml in /home/florianthaler/Documents/research/bilevel_optimisation/.venv_py-3-11/lib/python3.11/site-packages (from confuse>=2.0.1->bilevel-optimisation==1.0.0) (6.0.2)\n",
      "Requirement already satisfied: contourpy>=1.0.1 in /home/florianthaler/Documents/research/bilevel_optimisation/.venv_py-3-11/lib/python3.11/site-packages (from matplotlib>=3.10.1->bilevel-optimisation==1.0.0) (1.3.2)\n",
      "Requirement already satisfied: cycler>=0.10 in /home/florianthaler/Documents/research/bilevel_optimisation/.venv_py-3-11/lib/python3.11/site-packages (from matplotlib>=3.10.1->bilevel-optimisation==1.0.0) (0.12.1)\n",
      "Requirement already satisfied: fonttools>=4.22.0 in /home/florianthaler/Documents/research/bilevel_optimisation/.venv_py-3-11/lib/python3.11/site-packages (from matplotlib>=3.10.1->bilevel-optimisation==1.0.0) (4.58.0)\n",
      "Requirement already satisfied: kiwisolver>=1.3.1 in /home/florianthaler/Documents/research/bilevel_optimisation/.venv_py-3-11/lib/python3.11/site-packages (from matplotlib>=3.10.1->bilevel-optimisation==1.0.0) (1.4.8)\n",
      "Requirement already satisfied: packaging>=20.0 in /home/florianthaler/Documents/research/bilevel_optimisation/.venv_py-3-11/lib/python3.11/site-packages (from matplotlib>=3.10.1->bilevel-optimisation==1.0.0) (25.0)\n",
      "Requirement already satisfied: pyparsing>=2.3.1 in /home/florianthaler/Documents/research/bilevel_optimisation/.venv_py-3-11/lib/python3.11/site-packages (from matplotlib>=3.10.1->bilevel-optimisation==1.0.0) (3.2.3)\n",
      "Requirement already satisfied: python-dateutil>=2.7 in /home/florianthaler/Documents/research/bilevel_optimisation/.venv_py-3-11/lib/python3.11/site-packages (from matplotlib>=3.10.1->bilevel-optimisation==1.0.0) (2.9.0.post0)\n",
      "Requirement already satisfied: PyQt5-sip<13,>=12.15 in /home/florianthaler/Documents/research/bilevel_optimisation/.venv_py-3-11/lib/python3.11/site-packages (from PyQt5>=5.15.11->bilevel-optimisation==1.0.0) (12.17.0)\n",
      "Requirement already satisfied: PyQt5-Qt5<5.16.0,>=5.15.2 in /home/florianthaler/Documents/research/bilevel_optimisation/.venv_py-3-11/lib/python3.11/site-packages (from PyQt5>=5.15.11->bilevel-optimisation==1.0.0) (5.15.17)\n",
      "Requirement already satisfied: filelock in /home/florianthaler/Documents/research/bilevel_optimisation/.venv_py-3-11/lib/python3.11/site-packages (from torch>=2.6.0->bilevel-optimisation==1.0.0) (3.18.0)\n",
      "Requirement already satisfied: typing-extensions>=4.10.0 in /home/florianthaler/Documents/research/bilevel_optimisation/.venv_py-3-11/lib/python3.11/site-packages (from torch>=2.6.0->bilevel-optimisation==1.0.0) (4.13.2)\n",
      "Requirement already satisfied: networkx in /home/florianthaler/Documents/research/bilevel_optimisation/.venv_py-3-11/lib/python3.11/site-packages (from torch>=2.6.0->bilevel-optimisation==1.0.0) (3.4.2)\n",
      "Requirement already satisfied: jinja2 in /home/florianthaler/Documents/research/bilevel_optimisation/.venv_py-3-11/lib/python3.11/site-packages (from torch>=2.6.0->bilevel-optimisation==1.0.0) (3.1.6)\n",
      "Requirement already satisfied: fsspec in /home/florianthaler/Documents/research/bilevel_optimisation/.venv_py-3-11/lib/python3.11/site-packages (from torch>=2.6.0->bilevel-optimisation==1.0.0) (2025.5.1)\n",
      "Requirement already satisfied: nvidia-cuda-nvrtc-cu12==12.4.127 in /home/florianthaler/Documents/research/bilevel_optimisation/.venv_py-3-11/lib/python3.11/site-packages (from torch>=2.6.0->bilevel-optimisation==1.0.0) (12.4.127)\n",
      "Requirement already satisfied: nvidia-cuda-runtime-cu12==12.4.127 in /home/florianthaler/Documents/research/bilevel_optimisation/.venv_py-3-11/lib/python3.11/site-packages (from torch>=2.6.0->bilevel-optimisation==1.0.0) (12.4.127)\n",
      "Requirement already satisfied: nvidia-cuda-cupti-cu12==12.4.127 in /home/florianthaler/Documents/research/bilevel_optimisation/.venv_py-3-11/lib/python3.11/site-packages (from torch>=2.6.0->bilevel-optimisation==1.0.0) (12.4.127)\n",
      "Requirement already satisfied: nvidia-cudnn-cu12==9.1.0.70 in /home/florianthaler/Documents/research/bilevel_optimisation/.venv_py-3-11/lib/python3.11/site-packages (from torch>=2.6.0->bilevel-optimisation==1.0.0) (9.1.0.70)\n",
      "Requirement already satisfied: nvidia-cublas-cu12==12.4.5.8 in /home/florianthaler/Documents/research/bilevel_optimisation/.venv_py-3-11/lib/python3.11/site-packages (from torch>=2.6.0->bilevel-optimisation==1.0.0) (12.4.5.8)\n",
      "Requirement already satisfied: nvidia-cufft-cu12==11.2.1.3 in /home/florianthaler/Documents/research/bilevel_optimisation/.venv_py-3-11/lib/python3.11/site-packages (from torch>=2.6.0->bilevel-optimisation==1.0.0) (11.2.1.3)\n",
      "Requirement already satisfied: nvidia-curand-cu12==10.3.5.147 in /home/florianthaler/Documents/research/bilevel_optimisation/.venv_py-3-11/lib/python3.11/site-packages (from torch>=2.6.0->bilevel-optimisation==1.0.0) (10.3.5.147)\n",
      "Requirement already satisfied: nvidia-cusolver-cu12==11.6.1.9 in /home/florianthaler/Documents/research/bilevel_optimisation/.venv_py-3-11/lib/python3.11/site-packages (from torch>=2.6.0->bilevel-optimisation==1.0.0) (11.6.1.9)\n",
      "Requirement already satisfied: nvidia-cusparse-cu12==12.3.1.170 in /home/florianthaler/Documents/research/bilevel_optimisation/.venv_py-3-11/lib/python3.11/site-packages (from torch>=2.6.0->bilevel-optimisation==1.0.0) (12.3.1.170)\n",
      "Requirement already satisfied: nvidia-cusparselt-cu12==0.6.2 in /home/florianthaler/Documents/research/bilevel_optimisation/.venv_py-3-11/lib/python3.11/site-packages (from torch>=2.6.0->bilevel-optimisation==1.0.0) (0.6.2)\n",
      "Requirement already satisfied: nvidia-nccl-cu12==2.21.5 in /home/florianthaler/Documents/research/bilevel_optimisation/.venv_py-3-11/lib/python3.11/site-packages (from torch>=2.6.0->bilevel-optimisation==1.0.0) (2.21.5)\n",
      "Requirement already satisfied: nvidia-nvtx-cu12==12.4.127 in /home/florianthaler/Documents/research/bilevel_optimisation/.venv_py-3-11/lib/python3.11/site-packages (from torch>=2.6.0->bilevel-optimisation==1.0.0) (12.4.127)\n",
      "Requirement already satisfied: nvidia-nvjitlink-cu12==12.4.127 in /home/florianthaler/Documents/research/bilevel_optimisation/.venv_py-3-11/lib/python3.11/site-packages (from torch>=2.6.0->bilevel-optimisation==1.0.0) (12.4.127)\n",
      "Requirement already satisfied: triton==3.2.0 in /home/florianthaler/Documents/research/bilevel_optimisation/.venv_py-3-11/lib/python3.11/site-packages (from torch>=2.6.0->bilevel-optimisation==1.0.0) (3.2.0)\n",
      "Requirement already satisfied: sympy==1.13.1 in /home/florianthaler/Documents/research/bilevel_optimisation/.venv_py-3-11/lib/python3.11/site-packages (from torch>=2.6.0->bilevel-optimisation==1.0.0) (1.13.1)\n",
      "Requirement already satisfied: mpmath<1.4,>=1.1.0 in /home/florianthaler/Documents/research/bilevel_optimisation/.venv_py-3-11/lib/python3.11/site-packages (from sympy==1.13.1->torch>=2.6.0->bilevel-optimisation==1.0.0) (1.3.0)\n",
      "Requirement already satisfied: six>=1.5 in /home/florianthaler/Documents/research/bilevel_optimisation/.venv_py-3-11/lib/python3.11/site-packages (from python-dateutil>=2.7->matplotlib>=3.10.1->bilevel-optimisation==1.0.0) (1.17.0)\n",
      "Requirement already satisfied: MarkupSafe>=2.0 in /home/florianthaler/Documents/research/bilevel_optimisation/.venv_py-3-11/lib/python3.11/site-packages (from jinja2->torch>=2.6.0->bilevel-optimisation==1.0.0) (3.0.2)\n",
      "Installing collected packages: bilevel-optimisation\n",
      "Successfully installed bilevel-optimisation-1.0.0\n",
      "\n",
      "\u001b[1m[\u001b[0m\u001b[34;49mnotice\u001b[0m\u001b[1;39;49m]\u001b[0m\u001b[39;49m A new release of pip is available: \u001b[0m\u001b[31;49m24.0\u001b[0m\u001b[39;49m -> \u001b[0m\u001b[32;49m25.1.1\u001b[0m\n",
      "\u001b[1m[\u001b[0m\u001b[34;49mnotice\u001b[0m\u001b[1;39;49m]\u001b[0m\u001b[39;49m To update, run: \u001b[0m\u001b[32;49mpip install --upgrade pip\u001b[0m\n",
      "Note: you may need to restart the kernel to use updated packages.\n"
     ]
    }
   ],
   "source": [
    "# pip install ../../../artefacts/bilevel_optimisation-1.0.0-py3-none-any.whl"
   ]
  },
  {
   "cell_type": "code",
   "execution_count": 2,
   "id": "e91e2450-764c-46d9-83e2-d9d4ace231ff",
   "metadata": {},
   "outputs": [],
   "source": [
    "import os\n",
    "import torch\n",
    "from torch.utils.data import DataLoader"
   ]
  },
  {
   "cell_type": "code",
   "execution_count": 5,
   "id": "51928112-8feb-44a3-ac4c-4f2f0f523772",
   "metadata": {},
   "outputs": [],
   "source": [
    "from bilevel_optimisation.bilevel.Bilevel import Bilevel\n",
    "from bilevel_optimisation.data.SolverSpec import SolverSpec\n",
    "from bilevel_optimisation.dataset.ImageDataset import TestImageDataset, TrainingImageDataset\n",
    "from bilevel_optimisation.evaluation.Evaluation import evaluate_on_test_data\n",
    "from bilevel_optimisation.factories.BuildFactory import build_solver_factory\n",
    "from bilevel_optimisation.utils.DatasetUtils import collate_function\n",
    "from bilevel_optimisation.utils.SetupUtils import set_up_regulariser, load_optimiser_class, set_up_measurement_model\n",
    "from bilevel_optimisation.utils.SetupUtils import set_up_inner_energy, set_up_outer_loss, set_up_bilevel_problem\n",
    "from bilevel_optimisation.utils.ConfigUtils import load_app_config\n",
    "from bilevel_optimisation.utils.FileSystemUtils import save_foe_model\n",
    "from bilevel_optimisation.utils.SeedingUtils import seed_random_number_generators\n",
    "from bilevel_optimisation import solver\n",
    "from bilevel_optimisation.visualisation.Visualisation import visualise_training_stats, visualise_filter_stats"
   ]
  },
  {
   "cell_type": "code",
   "execution_count": 6,
   "id": "ed8f19cf-ce53-4f82-a6a0-d9c18dc31202",
   "metadata": {},
   "outputs": [],
   "source": [
    "seed_random_number_generators(123)\n",
    "\n",
    "device = torch.device('cuda' if torch.cuda.is_available() else 'cpu')\n",
    "dtype = torch.float32"
   ]
  },
  {
   "cell_type": "markdown",
   "id": "1ee71a93-e117-4f68-afe5-349d24c90e7c",
   "metadata": {},
   "source": [
    "### Setup training dataset"
   ]
  },
  {
   "cell_type": "code",
   "execution_count": 7,
   "id": "ec05a914-c5d8-44f9-a7d0-2927445e04ab",
   "metadata": {},
   "outputs": [],
   "source": [
    "train_data_root_dir = '/home/florianthaler/Documents/data/image_data/BSDS300/images/train'\n",
    "train_image_dataset = TrainingImageDataset(root_path=train_data_root_dir, dtype=dtype)\n",
    "batch_size = 32\n",
    "crop_size = 64\n",
    "train_loader = DataLoader(train_image_dataset, batch_size=batch_size, collate_fn=lambda x: collate_function(x, crop_size=crop_size))"
   ]
  },
  {
   "cell_type": "markdown",
   "id": "3ee52b02-6f9f-4be3-ba24-9fa8c217d71e",
   "metadata": {},
   "source": [
    "### Setup test dataset"
   ]
  },
  {
   "cell_type": "code",
   "execution_count": 8,
   "id": "276aeb2b-a480-4537-8a71-95089d718822",
   "metadata": {},
   "outputs": [],
   "source": [
    "test_data_root_dir = '/home/florianthaler/Documents/data/image_data/some_images'\n",
    "test_image_dataset = TestImageDataset(root_path=test_data_root_dir, dtype=dtype)\n",
    "test_loader = DataLoader(test_image_dataset, batch_size=len(test_image_dataset), shuffle=False,\n",
    "                         collate_fn=lambda x: collate_function(x, crop_size=-1))"
   ]
  },
  {
   "cell_type": "markdown",
   "id": "4325a950-bcfe-4309-a7de-3ae6f3568ec4",
   "metadata": {},
   "source": [
    "### Setup regulariser"
   ]
  },
  {
   "cell_type": "code",
   "execution_count": 9,
   "id": "9910cc8a-80df-470b-9059-d77691d2e182",
   "metadata": {},
   "outputs": [],
   "source": [
    "custom_config_dir_path = 'example_training_I'\n",
    "    # custom_config_dir_path = /home/florianthaler/Documents/research/bilevel_optimisation/bilevel_optimisation/config_data/custom/training_config\n",
    "\n",
    "app_name = 'bilevel_optimisation'\n",
    "configuring_module = '[DENOISING] train'\n",
    "config = load_app_config(app_name, custom_config_dir_path, configuring_module)"
   ]
  },
  {
   "cell_type": "code",
   "execution_count": 8,
   "id": "c86bd853-7cf0-40ed-ba98-1ed615a72b05",
   "metadata": {},
   "outputs": [],
   "source": [
    "regulariser = set_up_regulariser(config)"
   ]
  },
  {
   "cell_type": "markdown",
   "id": "e2e3d9f7-d438-4229-b746-d11580e3d813",
   "metadata": {},
   "source": [
    "### Setup bilevel instance"
   ]
  },
  {
   "cell_type": "code",
   "execution_count": 8,
   "id": "f0325538-202a-4a28-95bd-20cdf2fbb6f4",
   "metadata": {},
   "outputs": [],
   "source": [
    "bilevel = set_up_bilevel_problem(regulariser.parameters(), config)"
   ]
  },
  {
   "cell_type": "markdown",
   "id": "68ece264-a8e5-4211-a7d1-40ff39f20d53",
   "metadata": {},
   "source": [
    "### Initial test loss and psnr"
   ]
  },
  {
   "cell_type": "code",
   "execution_count": 9,
   "id": "44d8638d-1483-47de-b6e1-38785ce7a3e4",
   "metadata": {},
   "outputs": [],
   "source": [
    "psnr, test_loss = evaluate_on_test_data(test_loader, regulariser, config, device, dtype, -1, path_to_data_dir=None)\n",
    "\n",
    "test_loss_list = [test_loss]\n",
    "psnr_list = [psnr]"
   ]
  },
  {
   "cell_type": "markdown",
   "id": "ac73e050-c998-4092-9f95-9f2e3cc89518",
   "metadata": {},
   "source": [
    "### Training loop"
   ]
  },
  {
   "cell_type": "code",
   "execution_count": 10,
   "id": "faf1d2dd-324d-42a7-9a85-33456057e9ef",
   "metadata": {},
   "outputs": [],
   "source": [
    "train_loss_list = []\n",
    "filters_list = []\n",
    "filter_weights_list = []\n",
    "\n",
    "evaluation_freq = 2\n",
    "max_num_iterations = 4\n",
    "\n",
    "path_to_eval_dir = '/home/florianthaler/Documents/data/evaluation/foe_bilevel_denoising/eval'"
   ]
  },
  {
   "cell_type": "code",
   "execution_count": 11,
   "id": "6c77c45c-07c8-4237-a601-7bff2461a258",
   "metadata": {
    "scrolled": true
   },
   "outputs": [
    {
     "name": "stdout",
     "output_type": "stream",
     "text": [
      "[TRAIN] iteration [1 / 4]: loss = 239.41830\n",
      "[TRAIN] iteration [2 / 4]: loss = 107.70458\n",
      "[TRAIN] evaluate on test dataset\n",
      "[TRAIN] denoised test images\n",
      "[TRAIN]   > average psnr: 29.27701\n",
      "[TRAIN]   > test loss: 182.36945\n",
      "[TRAIN] iteration [3 / 4]: loss = 108.14030\n",
      "[TRAIN] iteration [4 / 4]: loss = 97.03108\n",
      "[TRAIN] evaluate on test dataset\n",
      "[TRAIN] denoised test images\n",
      "[TRAIN]   > average psnr: 29.31618\n",
      "[TRAIN]   > test loss: 180.73187\n",
      "[TRAIN] reached maximal number of iterations\n"
     ]
    }
   ],
   "source": [
    "for k, batch in enumerate(train_loader):\n",
    "\n",
    "    batch_ = batch.to(device=device, dtype=dtype)\n",
    "    with torch.no_grad():\n",
    "        measurement_model = set_up_measurement_model(batch_, config)\n",
    "        inner_energy = set_up_inner_energy(measurement_model, regulariser, config)\n",
    "        inner_energy = inner_energy.to(device=device, dtype=dtype)\n",
    "\n",
    "        outer_loss = set_up_outer_loss(batch_, config)\n",
    "        train_loss = bilevel.forward(outer_loss, inner_energy)\n",
    "\n",
    "        train_loss_list.append(train_loss.detach().cpu().item())\n",
    "        filters_list.append(regulariser.get_filters())\n",
    "        filter_weights_list.append(regulariser.get_filter_weights())\n",
    "        print('[TRAIN] iteration [{:d} / {:d}]: '\n",
    "              'loss = {:.5f}'.format(k + 1, max_num_iterations, train_loss.detach().cpu().item()))\n",
    "\n",
    "        if (k + 1) % evaluation_freq == 0:\n",
    "            print('[TRAIN] evaluate on test dataset')\n",
    "\n",
    "            psnr, test_loss = evaluate_on_test_data(test_loader, regulariser, config, device,\n",
    "                                                    dtype, k, path_to_eval_dir)\n",
    "            print('[TRAIN] denoised test images')\n",
    "            print('[TRAIN]   > average psnr: {:.5f}'.format(psnr))\n",
    "            print('[TRAIN]   > test loss: {:.5f}'.format(test_loss))\n",
    "\n",
    "            psnr_list.append(psnr)\n",
    "            test_loss_list.append(test_loss)\n",
    "\n",
    "        if (k + 1) == max_num_iterations:\n",
    "            print('[TRAIN] reached maximal number of iterations')\n",
    "            break\n",
    "        else:\n",
    "            k += 1"
   ]
  },
  {
   "cell_type": "markdown",
   "id": "563f8c11-834e-49ee-bf4b-5bcd400d4c21",
   "metadata": {},
   "source": [
    "### Store trained model and visualisations of training results"
   ]
  },
  {
   "cell_type": "code",
   "execution_count": 12,
   "id": "13a855db-652f-441e-a404-3e20ad5ab9cb",
   "metadata": {},
   "outputs": [],
   "source": [
    "save_foe_model(regulariser, os.path.join(path_to_eval_dir, 'models'), model_dir_name='final')\n",
    "\n",
    "visualise_training_stats(train_loss_list, test_loss_list, psnr_list, evaluation_freq, path_to_eval_dir)\n",
    "visualise_filter_stats(filters_list, filter_weights_list, path_to_eval_dir)"
   ]
  }
 ],
 "metadata": {
  "kernelspec": {
   "display_name": "Python 3 (ipykernel)",
   "language": "python",
   "name": "python3"
  },
  "language_info": {
   "codemirror_mode": {
    "name": "ipython",
    "version": 3
   },
   "file_extension": ".py",
   "mimetype": "text/x-python",
   "name": "python",
   "nbconvert_exporter": "python",
   "pygments_lexer": "ipython3",
   "version": "3.11.12"
  }
 },
 "nbformat": 4,
 "nbformat_minor": 5
}
