{
 "cells": [
  {
   "cell_type": "code",
   "execution_count": 1,
   "id": "5290e361-aed9-4ffb-85f9-84ecf38dc874",
   "metadata": {},
   "outputs": [],
   "source": [
    "import sys\n",
    "sys.path.append('../../')"
   ]
  },
  {
   "cell_type": "code",
   "execution_count": null,
   "id": "6573a749-3829-4151-a767-d0be0ef93e53",
   "metadata": {},
   "outputs": [],
   "source": [
    "pip install ../../artefacts/bilevel_optimisation-0.1.0-py3-none-any.whl"
   ]
  },
  {
   "cell_type": "code",
   "execution_count": 2,
   "id": "e91e2450-764c-46d9-83e2-d9d4ace231ff",
   "metadata": {},
   "outputs": [],
   "source": [
    "import os\n",
    "import torch\n",
    "from torch.utils.data import DataLoader"
   ]
  },
  {
   "cell_type": "code",
   "execution_count": 20,
   "id": "51928112-8feb-44a3-ac4c-4f2f0f523772",
   "metadata": {},
   "outputs": [],
   "source": [
    "from bilevel_optimisation.bilevel.Bilevel import Bilevel\n",
    "from bilevel_optimisation.data.SolverSpec import SolverSpec\n",
    "from bilevel_optimisation.dataset.ImageDataset import TestImageDataset, TrainingImageDataset\n",
    "from bilevel_optimisation.evaluation.Evaluation import evaluate_on_test_data\n",
    "from bilevel_optimisation.factories.BuildFactory import build_solver_factory\n",
    "from bilevel_optimisation.utils.DatasetUtils import collate_function\n",
    "from bilevel_optimisation.utils.SetupUtils import set_up_regulariser, load_optimiser_class, set_up_measurement_model\n",
    "from bilevel_optimisation.utils.SetupUtils import set_up_inner_energy, set_up_outer_loss, set_up_bilevel_problem\n",
    "from bilevel_optimisation.utils.ConfigUtils import load_configs\n",
    "from bilevel_optimisation.utils.FileSystemUtils import save_foe_model\n",
    "from bilevel_optimisation.utils.SeedingUtils import seed_random_number_generators\n",
    "from bilevel_optimisation import solver\n",
    "from bilevel_optimisation.visualisation.Visualisation import visualise_training_stats, visualise_filter_stats"
   ]
  },
  {
   "cell_type": "code",
   "execution_count": 4,
   "id": "ed8f19cf-ce53-4f82-a6a0-d9c18dc31202",
   "metadata": {},
   "outputs": [],
   "source": [
    "seed_random_number_generators(123)\n",
    "\n",
    "device = torch.device('cuda' if torch.cuda.is_available() else 'cpu')\n",
    "dtype = torch.float32"
   ]
  },
  {
   "cell_type": "markdown",
   "id": "1ee71a93-e117-4f68-afe5-349d24c90e7c",
   "metadata": {},
   "source": [
    "### Setup training dataset"
   ]
  },
  {
   "cell_type": "code",
   "execution_count": 5,
   "id": "ec05a914-c5d8-44f9-a7d0-2927445e04ab",
   "metadata": {},
   "outputs": [],
   "source": [
    "train_data_root_dir = '/home/florianthaler/Documents/data/image_data/BSDS300/images/train'\n",
    "train_image_dataset = TrainingImageDataset(root_path=train_data_root_dir, dtype=dtype)\n",
    "batch_size = 32\n",
    "crop_size = 64\n",
    "train_loader = DataLoader(train_image_dataset, batch_size=batch_size, collate_fn=lambda x: collate_function(x, crop_size=crop_size))"
   ]
  },
  {
   "cell_type": "markdown",
   "id": "3ee52b02-6f9f-4be3-ba24-9fa8c217d71e",
   "metadata": {},
   "source": [
    "### Setup test dataset"
   ]
  },
  {
   "cell_type": "code",
   "execution_count": 6,
   "id": "276aeb2b-a480-4537-8a71-95089d718822",
   "metadata": {},
   "outputs": [],
   "source": [
    "test_data_root_dir = '../../data/test_images'\n",
    "test_image_dataset = TestImageDataset(root_path=test_data_root_dir, dtype=dtype)\n",
    "test_loader = DataLoader(test_image_dataset, batch_size=len(test_image_dataset), shuffle=False,\n",
    "                         collate_fn=lambda x: collate_function(x, crop_size=-1))"
   ]
  },
  {
   "cell_type": "markdown",
   "id": "4325a950-bcfe-4309-a7de-3ae6f3568ec4",
   "metadata": {},
   "source": [
    "### Setup regulariser"
   ]
  },
  {
   "cell_type": "code",
   "execution_count": 7,
   "id": "9910cc8a-80df-470b-9059-d77691d2e182",
   "metadata": {},
   "outputs": [],
   "source": [
    "default_config_dir_path = '../../data/configs/default'\n",
    "custom_config_dir_path = '../../data/configs/custom/example_training_I'\n",
    "\n",
    "config = load_configs('[DENOISING] train', default_config_dir_path=default_config_dir_path,\n",
    "                      custom_config_dir_path=custom_config_dir_path, configuring_module='train')"
   ]
  },
  {
   "cell_type": "code",
   "execution_count": 8,
   "id": "c86bd853-7cf0-40ed-ba98-1ed615a72b05",
   "metadata": {},
   "outputs": [],
   "source": [
    "regulariser = set_up_regulariser(config)"
   ]
  },
  {
   "cell_type": "markdown",
   "id": "e2e3d9f7-d438-4229-b746-d11580e3d813",
   "metadata": {},
   "source": [
    "### Setup bilevel instance"
   ]
  },
  {
   "cell_type": "code",
   "execution_count": 21,
   "id": "f0325538-202a-4a28-95bd-20cdf2fbb6f4",
   "metadata": {},
   "outputs": [],
   "source": [
    "bilevel = set_up_bilevel_problem(regulariser.parameters(), config)"
   ]
  },
  {
   "cell_type": "markdown",
   "id": "68ece264-a8e5-4211-a7d1-40ff39f20d53",
   "metadata": {},
   "source": [
    "### Initial test loss and psnr"
   ]
  },
  {
   "cell_type": "code",
   "execution_count": 10,
   "id": "44d8638d-1483-47de-b6e1-38785ce7a3e4",
   "metadata": {},
   "outputs": [],
   "source": [
    "psnr, test_loss = evaluate_on_test_data(test_loader, regulariser, config, device, dtype, -1, path_to_data_dir=None)\n",
    "\n",
    "test_loss_list = [test_loss]\n",
    "psnr_list = [psnr]"
   ]
  },
  {
   "cell_type": "markdown",
   "id": "ac73e050-c998-4092-9f95-9f2e3cc89518",
   "metadata": {},
   "source": [
    "### Training loop"
   ]
  },
  {
   "cell_type": "code",
   "execution_count": 23,
   "id": "faf1d2dd-324d-42a7-9a85-33456057e9ef",
   "metadata": {},
   "outputs": [],
   "source": [
    "train_loss_list = []\n",
    "filters_list = []\n",
    "filter_weights_list = []\n",
    "\n",
    "evaluation_freq = 2\n",
    "max_num_iterations = 20\n",
    "\n",
    "path_to_eval_dir = '/home/florianthaler/Documents/data/evaluation/foe_bilevel_denoising/eval'"
   ]
  },
  {
   "cell_type": "code",
   "execution_count": 24,
   "id": "6c77c45c-07c8-4237-a601-7bff2461a258",
   "metadata": {
    "scrolled": true
   },
   "outputs": [
    {
     "name": "stdout",
     "output_type": "stream",
     "text": [
      "[TRAIN] iteration [1 / 20]: loss = 103.95058\n",
      "[TRAIN] iteration [2 / 20]: loss = 235.45084\n",
      "[TRAIN] evaluate on test dataset\n",
      "[TRAIN] denoised test images\n",
      "[TRAIN]   > average psnr: 26.38792\n",
      "[TRAIN]   > test loss: 355.11237\n",
      "[TRAIN] iteration [3 / 20]: loss = 167.14388\n",
      "[TRAIN] iteration [4 / 20]: loss = 149.15738\n",
      "[TRAIN] evaluate on test dataset\n",
      "[TRAIN] denoised test images\n",
      "[TRAIN]   > average psnr: 27.67525\n",
      "[TRAIN]   > test loss: 263.80737\n",
      "[TRAIN] iteration [5 / 20]: loss = 136.16898\n",
      "[TRAIN] iteration [6 / 20]: loss = 134.09842\n",
      "[TRAIN] evaluate on test dataset\n",
      "[TRAIN] denoised test images\n",
      "[TRAIN]   > average psnr: 28.21934\n",
      "[TRAIN]   > test loss: 232.66138\n",
      "[TRAIN] iteration [7 / 20]: loss = 131.24289\n",
      "[TRAIN] iteration [8 / 20]: loss = 106.87519\n",
      "[TRAIN] evaluate on test dataset\n",
      "[TRAIN] denoised test images\n",
      "[TRAIN]   > average psnr: 28.38552\n",
      "[TRAIN]   > test loss: 223.92314\n",
      "[TRAIN] iteration [9 / 20]: loss = 93.58693\n",
      "[TRAIN] iteration [10 / 20]: loss = 149.70557\n",
      "[TRAIN] evaluate on test dataset\n",
      "[TRAIN] denoised test images\n",
      "[TRAIN]   > average psnr: 28.37846\n",
      "[TRAIN]   > test loss: 224.28716\n",
      "[TRAIN] iteration [11 / 20]: loss = 108.18343\n",
      "[TRAIN] iteration [12 / 20]: loss = 126.64852\n",
      "[TRAIN] evaluate on test dataset\n",
      "[TRAIN] denoised test images\n",
      "[TRAIN]   > average psnr: 28.34555\n",
      "[TRAIN]   > test loss: 225.99321\n",
      "[TRAIN] iteration [13 / 20]: loss = 114.74117\n",
      "[TRAIN] iteration [14 / 20]: loss = 142.12015\n",
      "[TRAIN] evaluate on test dataset\n",
      "[TRAIN] denoised test images\n",
      "[TRAIN]   > average psnr: 28.39722\n",
      "[TRAIN]   > test loss: 223.32738\n",
      "[TRAIN] iteration [15 / 20]: loss = 116.82057\n",
      "[TRAIN] iteration [16 / 20]: loss = 112.39926\n",
      "[TRAIN] evaluate on test dataset\n",
      "[TRAIN] denoised test images\n",
      "[TRAIN]   > average psnr: 28.36375\n",
      "[TRAIN]   > test loss: 225.04935\n",
      "[TRAIN] iteration [17 / 20]: loss = 121.67421\n",
      "[TRAIN] iteration [18 / 20]: loss = 109.75397\n",
      "[TRAIN] evaluate on test dataset\n",
      "[TRAIN] denoised test images\n",
      "[TRAIN]   > average psnr: 28.30179\n",
      "[TRAIN]   > test loss: 228.30144\n",
      "[TRAIN] iteration [19 / 20]: loss = 120.85582\n",
      "[TRAIN] iteration [20 / 20]: loss = 131.40309\n",
      "[TRAIN] evaluate on test dataset\n",
      "[TRAIN] denoised test images\n",
      "[TRAIN]   > average psnr: 28.32306\n",
      "[TRAIN]   > test loss: 227.16724\n",
      "[TRAIN] reached maximal number of iterations\n"
     ]
    }
   ],
   "source": [
    "for k, batch in enumerate(train_loader):\n",
    "\n",
    "    batch_ = batch.to(device=device, dtype=dtype)\n",
    "    with torch.no_grad():\n",
    "        measurement_model = set_up_measurement_model(batch_, config)\n",
    "        inner_energy = set_up_inner_energy(measurement_model, regulariser, config)\n",
    "        inner_energy = inner_energy.to(device=device, dtype=dtype)\n",
    "\n",
    "        outer_loss = set_up_outer_loss(batch_, config)\n",
    "        train_loss = bilevel.forward(outer_loss, inner_energy)\n",
    "\n",
    "        train_loss_list.append(train_loss.detach().cpu().item())\n",
    "        filters_list.append(regulariser.get_filters())\n",
    "        filter_weights_list.append(regulariser.get_filter_weights())\n",
    "        print('[TRAIN] iteration [{:d} / {:d}]: '\n",
    "              'loss = {:.5f}'.format(k + 1, max_num_iterations, train_loss.detach().cpu().item()))\n",
    "\n",
    "        if (k + 1) % evaluation_freq == 0:\n",
    "            print('[TRAIN] evaluate on test dataset')\n",
    "\n",
    "            psnr, test_loss = evaluate_on_test_data(test_loader, regulariser, config, device,\n",
    "                                                    dtype, k, path_to_eval_dir)\n",
    "            print('[TRAIN] denoised test images')\n",
    "            print('[TRAIN]   > average psnr: {:.5f}'.format(psnr))\n",
    "            print('[TRAIN]   > test loss: {:.5f}'.format(test_loss))\n",
    "\n",
    "            psnr_list.append(psnr)\n",
    "            test_loss_list.append(test_loss)\n",
    "\n",
    "        if (k + 1) == max_num_iterations:\n",
    "            print('[TRAIN] reached maximal number of iterations')\n",
    "            break\n",
    "        else:\n",
    "            k += 1"
   ]
  },
  {
   "cell_type": "markdown",
   "id": "563f8c11-834e-49ee-bf4b-5bcd400d4c21",
   "metadata": {},
   "source": [
    "### Store trained model and visualisations of training results"
   ]
  },
  {
   "cell_type": "code",
   "execution_count": 25,
   "id": "13a855db-652f-441e-a404-3e20ad5ab9cb",
   "metadata": {},
   "outputs": [],
   "source": [
    "save_foe_model(regulariser, os.path.join(path_to_eval_dir, 'models'), model_dir_name='final')\n",
    "\n",
    "visualise_training_stats(train_loss_list, test_loss_list, psnr_list, evaluation_freq, path_to_eval_dir)\n",
    "visualise_filter_stats(filters_list, filter_weights_list, path_to_eval_dir)"
   ]
  }
 ],
 "metadata": {
  "kernelspec": {
   "display_name": "Python 3 (ipykernel)",
   "language": "python",
   "name": "python3"
  },
  "language_info": {
   "codemirror_mode": {
    "name": "ipython",
    "version": 3
   },
   "file_extension": ".py",
   "mimetype": "text/x-python",
   "name": "python",
   "nbconvert_exporter": "python",
   "pygments_lexer": "ipython3",
   "version": "3.12.3"
  }
 },
 "nbformat": 4,
 "nbformat_minor": 5
}
